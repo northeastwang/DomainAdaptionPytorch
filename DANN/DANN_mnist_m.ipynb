{
 "cells": [
  {
   "cell_type": "markdown",
   "metadata": {},
   "source": [
    "# DANN 领域迁移实验\n",
    "\n",
    "从mnist数据集迁移到mnist_m数据集， mnist_m数据集由mnist数据集和BSDS500数据集部分像素块混合而成。\n",
    "\n",
    "DANN 论文链接：https://arxiv.org/abs/1505.07818\n",
    "\n",
    "论文解释：https://zhuanlan.zhihu.com/p/122571123\n",
    "\n",
    "mnist_m数据链接：https://pan.baidu.com/s/1I5QE1NxJcvlFYWC8YHa4Bg \n",
    "提取码：ywz4\n",
    "在该笔记同级目录下创建dataset文件夹，将下载的压缩包放入并解压。"
   ]
  },
  {
   "cell_type": "code",
   "execution_count": 1,
   "metadata": {},
   "outputs": [],
   "source": [
    "import torch\n",
    "from torch import nn\n",
    "from torch.nn import functional as F\n",
    "from torch.optim import Adam\n",
    "from torch.utils.tensorboard import SummaryWriter\n",
    "from torch.utils.data import RandomSampler,Dataset,DataLoader\n",
    "\n",
    "import torchvision\n",
    "from torchvision import datasets, transforms\n",
    "from torchvision.utils import make_grid\n",
    "\n",
    "from PIL import Image\n",
    "import matplotlib.pyplot as plt\n",
    "from tqdm.notebook import tqdm\n",
    "import numpy as np\n",
    "import shutil\n",
    "import os"
   ]
  },
  {
   "cell_type": "markdown",
   "metadata": {},
   "source": [
    "## 工具函数"
   ]
  },
  {
   "cell_type": "code",
   "execution_count": 2,
   "metadata": {},
   "outputs": [],
   "source": [
    "def adjust_learning_rate(optimizer,epoch):\n",
    "    lr=0.001*0.1**(epoch//10)\n",
    "    for param_group in optimizer.param_groups:\n",
    "        param_group['lr']=lr\n",
    "    return lr\n",
    "\n",
    "def accuracy(output,target,topk=(1,)):\n",
    "    maxk=max(topk)\n",
    "    batch_size=target.size(0)\n",
    "    _,pred=output.topk(maxk,1,True,True)\n",
    "    pred=pred.t()\n",
    "    correct=pred.eq(target.view(1,-1).expand_as(pred))\n",
    "    res=[]\n",
    "    for k in topk:\n",
    "        correct_k=correct[:k].view(-1).float().sum(0)\n",
    "        res.append(correct_k.mul_(100/batch_size))\n",
    "    return res\n",
    "\n",
    "def matplotlib_imshow(img,one_channel=False):\n",
    "    if one_channel:\n",
    "        img=img.mean(dim=0)\n",
    "    np_img=img.numpy()\n",
    "    np_img=(np_img-np.min(np_img))/(np.max(np_img)-np.min(np_img))\n",
    "    if one_channel:\n",
    "        plt.imshow(np_img,cmap=\"Greys\")\n",
    "    else:\n",
    "        plt.imshow(np.transpose(np_img,(1,2,0)))\n",
    "\n",
    "class mnist_m(Dataset):\n",
    "    def __init__(self,root,label_file):\n",
    "        super(mnist_m,self).__init__()\n",
    "        self.transform=transforms.Compose([\n",
    "            transforms.Resize(image_size),\n",
    "            transforms.ToTensor(),\n",
    "            transforms.Normalize(mean=[0.5,0.5,0.5],std=[0.5,0.5,0.5])\n",
    "        ])\n",
    "        with open(label_file,\"r\") as f:\n",
    "            self.imgs=[]\n",
    "            self.labels=[]\n",
    "            for line in f.readlines():\n",
    "                line=line.strip(\"\\n\").split(\" \")\n",
    "                img_name,label=line[0],int(line[1])\n",
    "                img=Image.open(root+os.sep+img_name)\n",
    "                self.imgs.append(self.transform(img.convert(\"RGB\")))\n",
    "                self.labels.append(label)\n",
    "    def __len__(self):\n",
    "        return len(self.labels)\n",
    "    def __getitem__(self,index):\n",
    "        return self.imgs[index],self.labels[index]\n",
    "    def __add__(self,other):\n",
    "        pass\n",
    "class AverageMeter(object):\n",
    "    def __init__(self):\n",
    "        self.reset()\n",
    "    def reset(self):\n",
    "        self.val=0\n",
    "        self.avg=0\n",
    "        self.sum=0\n",
    "        self.count=0\n",
    "    def update(self,val,n=1):\n",
    "        self.val=val\n",
    "        self.sum+=val*n\n",
    "        self.count+=n\n",
    "        self.avg=self.sum/self.count"
   ]
  },
  {
   "cell_type": "markdown",
   "metadata": {},
   "source": [
    "## Tensorboard"
   ]
  },
  {
   "cell_type": "code",
   "execution_count": 3,
   "metadata": {},
   "outputs": [],
   "source": [
    "log_dir=\"minist_experiment_1\"\n",
    "remove_log_dir=True\n",
    "if remove_log_dir and os.path.exists(log_dir):\n",
    "    shutil.rmtree(log_dir)"
   ]
  },
  {
   "cell_type": "markdown",
   "metadata": {},
   "source": [
    "## 读取展示数据"
   ]
  },
  {
   "cell_type": "code",
   "execution_count": 4,
   "metadata": {},
   "outputs": [],
   "source": [
    "image_size=28\n",
    "batch_size=128\n",
    "transform = transforms.Compose([transforms.Resize(image_size),\n",
    "                                transforms.ToTensor(),\n",
    "                               transforms.Normalize(mean=[0.5],std=[0.5])])\n",
    "train_ds=datasets.MNIST(root=\"mnist\",train=True,transform=transform,download=True)\n",
    "test_ds=datasets.MNIST(root=\"mnist\",train=False,transform=transform,download=True)\n",
    "train_dl=DataLoader(train_ds,batch_size=batch_size,shuffle=True)\n",
    "test_dl=DataLoader(test_ds,batch_size=batch_size,shuffle=False)\n",
    "root_path=os.path.join(\"dataset\",\"mnist_m\")\n",
    "train_m_ds=mnist_m(os.path.join(root_path,\"mnist_m_train\"),os.path.join(root_path,\"mnist_m_train_labels.txt\"))\n",
    "test_m_ds=mnist_m(os.path.join(root_path,\"mnist_m_test\"),os.path.join(root_path,\"mnist_m_test_labels.txt\"))\n",
    "train_m_dl=DataLoader(train_m_ds,batch_size=batch_size,shuffle=True)\n",
    "test_m_dl=DataLoader(test_m_ds,batch_size=batch_size,shuffle=False)"
   ]
  },
  {
   "cell_type": "code",
   "execution_count": 5,
   "metadata": {},
   "outputs": [
    {
     "data": {
      "image/png": "[encoded data removed]",
      "text/plain": [
       "<Figure size 432x288 with 1 Axes>"
      ]
     },
     "metadata": {
      "needs_background": "light"
     },
     "output_type": "display_data"
    }
   ],
   "source": [
    "%matplotlib inline\n",
    "\n",
    "writer=SummaryWriter(log_dir)\n",
    "show_images=[train_ds[i][0] for i in range(8)]\n",
    "show_labels=[train_ds[i][1] for i in range(8)]\n",
    "show_img_grid=make_grid(show_images)\n",
    "matplotlib_imshow(show_img_grid,one_channel=True)\n",
    "writer.add_image(\"mnist_images\",show_img_grid)"
   ]
  },
  {
   "cell_type": "code",
   "execution_count": 6,
   "metadata": {},
   "outputs": [
    {
     "data": {
      "image/png": "[encoded data removed]",
      "text/plain": [
       "<Figure size 432x288 with 1 Axes>"
      ]
     },
     "metadata": {
      "needs_background": "light"
     },
     "output_type": "display_data"
    }
   ],
   "source": [
    "show_images=[train_m_ds[i][0] for i in range(8)]\n",
    "show_labels=[train_m_ds[i][1] for i in range(8)]\n",
    "show_img_grid=make_grid(show_images)\n",
    "matplotlib_imshow(show_img_grid,one_channel=False)\n",
    "writer.add_image(\"mnist_m_images\",show_img_grid)"
   ]
  },
  {
   "cell_type": "markdown",
   "metadata": {},
   "source": [
    "## 独立训练\n",
    "\n",
    "在源域上独立训练CNN模型"
   ]
  },
  {
   "cell_type": "code",
   "execution_count": 7,
   "metadata": {},
   "outputs": [],
   "source": [
    "class CNN(nn.Module):\n",
    "    def __init__(self,num_classes=10):\n",
    "        super(CNN,self).__init__()\n",
    "        self.features=nn.Sequential(\n",
    "            nn.Conv2d(3,32,5),\n",
    "            nn.ReLU(inplace=True),\n",
    "            nn.MaxPool2d(2),\n",
    "            nn.Conv2d(32,48,5),\n",
    "            nn.ReLU(inplace=True),\n",
    "            nn.MaxPool2d(2),\n",
    "        )\n",
    "        self.avgpool=nn.AdaptiveAvgPool2d((5,5))\n",
    "        self.classifier=nn.Sequential(\n",
    "            nn.Linear(48*5*5,100),\n",
    "            nn.ReLU(inplace=True),\n",
    "            nn.Linear(100,100),\n",
    "            nn.ReLU(inplace=True),\n",
    "            nn.Linear(100,num_classes)\n",
    "        )\n",
    "    def forward(self,x):\n",
    "        x=x.expand(x.data.shape[0],3,image_size,image_size)\n",
    "        x=self.features(x)\n",
    "        x=self.avgpool(x)\n",
    "        x=torch.flatten(x,1)\n",
    "        x=self.classifier(x)\n",
    "        return x"
   ]
  },
  {
   "cell_type": "markdown",
   "metadata": {},
   "source": [
    "用一个5层的神经网络在mnist上使用Adam训练，准确率约为99.3%"
   ]
  },
  {
   "cell_type": "code",
   "execution_count": 8,
   "metadata": {
    "scrolled": false
   },
   "outputs": [
    {
     "data": {
      "application/vnd.jupyter.widget-view+json": {
       "model_id": "bd6d0dd0ed3c40538cd30011a3925859",
       "version_major": 2,
       "version_minor": 0
      },
      "text/plain": [
       "HBox(children=(FloatProgress(value=0.0, max=469.0), HTML(value='')))"
      ]
     },
     "metadata": {},
     "output_type": "display_data"
    },
    {
     "name": "stdout",
     "output_type": "stream",
     "text": [
      "Epoch:0[200/469],Loss:[0.122,0.404],prec[96.0938,87.5273]\n",
      "Epoch:0[400/469],Loss:[0.078,0.253],prec[98.4375,92.1875]\n",
      "\n"
     ]
    },
    {
     "data": {
      "application/vnd.jupyter.widget-view+json": {
       "model_id": "b93026984dea4dca9c7ff5c8202b5877",
       "version_major": 2,
       "version_minor": 0
      },
      "text/plain": [
       "HBox(children=(FloatProgress(value=0.0, max=79.0), HTML(value='')))"
      ]
     },
     "metadata": {},
     "output_type": "display_data"
    },
    {
     "name": "stdout",
     "output_type": "stream",
     "text": [
      "\n",
      "Epoch:0,val,Loss:[0.046],prec[98.4600]\n"
     ]
    },
    {
     "data": {
      "application/vnd.jupyter.widget-view+json": {
       "model_id": "380860fc0a614482bec94650028bf6de",
       "version_major": 2,
       "version_minor": 0
      },
      "text/plain": [
       "HBox(children=(FloatProgress(value=0.0, max=469.0), HTML(value='')))"
      ]
     },
     "metadata": {},
     "output_type": "display_data"
    },
    {
     "name": "stdout",
     "output_type": "stream",
     "text": [
      "Epoch:1[200/469],Loss:[0.072,0.060],prec[98.4375,98.1328]\n",
      "Epoch:1[400/469],Loss:[0.030,0.056],prec[99.2188,98.2031]\n",
      "\n"
     ]
    },
    {
     "data": {
      "application/vnd.jupyter.widget-view+json": {
       "model_id": "a03c48666d584db8a95c7a2a98c4a5be",
       "version_major": 2,
       "version_minor": 0
      },
      "text/plain": [
       "HBox(children=(FloatProgress(value=0.0, max=79.0), HTML(value='')))"
      ]
     },
     "metadata": {},
     "output_type": "display_data"
    },
    {
     "name": "stdout",
     "output_type": "stream",
     "text": [
      "\n",
      "Epoch:1,val,Loss:[0.045],prec[98.5700]\n"
     ]
    },
    {
     "data": {
      "application/vnd.jupyter.widget-view+json": {
       "model_id": "bdd19d40c46d4d64a0ee17a34ea60b8b",
       "version_major": 2,
       "version_minor": 0
      },
      "text/plain": [
       "HBox(children=(FloatProgress(value=0.0, max=469.0), HTML(value='')))"
      ]
     },
     "metadata": {},
     "output_type": "display_data"
    },
    {
     "name": "stdout",
     "output_type": "stream",
     "text": [
      "Epoch:2[200/469],Loss:[0.033,0.040],prec[99.2188,98.7461]\n",
      "Epoch:2[400/469],Loss:[0.006,0.039],prec[100.0000,98.7422]\n",
      "\n"
     ]
    },
    {
     "data": {
      "application/vnd.jupyter.widget-view+json": {
       "model_id": "a6ec2ac21a824e80a662f240be052fd6",
       "version_major": 2,
       "version_minor": 0
      },
      "text/plain": [
       "HBox(children=(FloatProgress(value=0.0, max=79.0), HTML(value='')))"
      ]
     },
     "metadata": {},
     "output_type": "display_data"
    },
    {
     "name": "stdout",
     "output_type": "stream",
     "text": [
      "\n",
      "Epoch:2,val,Loss:[0.033],prec[98.9600]\n"
     ]
    },
    {
     "data": {
      "application/vnd.jupyter.widget-view+json": {
       "model_id": "8fe64844aed149f59f3c8a9bbfefb207",
       "version_major": 2,
       "version_minor": 0
      },
      "text/plain": [
       "HBox(children=(FloatProgress(value=0.0, max=469.0), HTML(value='')))"
      ]
     },
     "metadata": {},
     "output_type": "display_data"
    },
    {
     "name": "stdout",
     "output_type": "stream",
     "text": [
      "Epoch:3[200/469],Loss:[0.083,0.030],prec[98.4375,99.0273]\n",
      "Epoch:3[400/469],Loss:[0.020,0.031],prec[99.2188,99.0312]\n",
      "\n"
     ]
    },
    {
     "data": {
      "application/vnd.jupyter.widget-view+json": {
       "model_id": "0e9a47d31add47c0b6c62ace5d57579f",
       "version_major": 2,
       "version_minor": 0
      },
      "text/plain": [
       "HBox(children=(FloatProgress(value=0.0, max=79.0), HTML(value='')))"
      ]
     },
     "metadata": {},
     "output_type": "display_data"
    },
    {
     "name": "stdout",
     "output_type": "stream",
     "text": [
      "\n",
      "Epoch:3,val,Loss:[0.035],prec[98.7400]\n"
     ]
    },
    {
     "data": {
      "application/vnd.jupyter.widget-view+json": {
       "model_id": "c216c63d9602417da6b23999813d3aa5",
       "version_major": 2,
       "version_minor": 0
      },
      "text/plain": [
       "HBox(children=(FloatProgress(value=0.0, max=469.0), HTML(value='')))"
      ]
     },
     "metadata": {},
     "output_type": "display_data"
    },
    {
     "name": "stdout",
     "output_type": "stream",
     "text": [
      "Epoch:4[200/469],Loss:[0.015,0.022],prec[100.0000,99.2773]\n",
      "Epoch:4[400/469],Loss:[0.024,0.024],prec[99.2188,99.2168]\n",
      "\n"
     ]
    },
    {
     "data": {
      "application/vnd.jupyter.widget-view+json": {
       "model_id": "61dbb83eac534c888df7a599c42b27c9",
       "version_major": 2,
       "version_minor": 0
      },
      "text/plain": [
       "HBox(children=(FloatProgress(value=0.0, max=79.0), HTML(value='')))"
      ]
     },
     "metadata": {},
     "output_type": "display_data"
    },
    {
     "name": "stdout",
     "output_type": "stream",
     "text": [
      "\n",
      "Epoch:4,val,Loss:[0.030],prec[99.1400]\n"
     ]
    }
   ],
   "source": [
    "cnn_model=CNN()\n",
    "optimizer=Adam(cnn_model.parameters(),lr=0.001)\n",
    "Loss=nn.CrossEntropyLoss()\n",
    "epochs=5\n",
    "train_loss=AverageMeter()\n",
    "test_loss=AverageMeter()\n",
    "test_top1=AverageMeter()\n",
    "train_top1=AverageMeter()\n",
    "train_cnt=AverageMeter()\n",
    "print_freq=200\n",
    "cnn_model.cuda()\n",
    "for epoch in range(epochs):\n",
    "    lr=adjust_learning_rate(optimizer,epoch)\n",
    "    writer.add_scalar(\"lr\",lr,epoch)\n",
    "    train_loss.reset()\n",
    "    train_top1.reset()\n",
    "    train_cnt.reset()\n",
    "    test_top1.reset()\n",
    "    test_loss.reset()\n",
    "    for images,labels in tqdm(train_dl):\n",
    "        images=images.cuda()\n",
    "        labels=labels.cuda()\n",
    "        optimizer.zero_grad()\n",
    "        predict=cnn_model(images)\n",
    "        losses=Loss(predict,labels)\n",
    "        train_loss.update(losses.data,images.size(0))\n",
    "        top1=accuracy(predict.data,labels,topk=(1,))[0]\n",
    "        train_top1.update(top1,images.size(0))\n",
    "        train_cnt.update(images.size(0),1)\n",
    "        losses.backward()\n",
    "        optimizer.step()\n",
    "        if train_cnt.count%print_freq==0:\n",
    "            print(\"Epoch:{}[{}/{}],Loss:[{:.3f},{:.3f}],prec[{:.4f},{:.4f}]\".format(epoch,train_cnt.count,len(train_dl),train_loss.val,train_loss.avg,\n",
    "                                                            train_top1.val,train_top1.avg))\n",
    "    for images,labels in tqdm(test_dl):\n",
    "        images=images.cuda()\n",
    "        labels=labels.cuda()\n",
    "        predict=cnn_model(images)\n",
    "        losses=Loss(predict,labels)\n",
    "        test_loss.update(losses.data,images.size(0))\n",
    "        top1=accuracy(predict.data,labels,topk=(1,))[0]\n",
    "        test_top1.update(top1,images.size(0))\n",
    "    print(\"Epoch:{},val,Loss:[{:.3f}],prec[{:.4f}]\".format(epoch,test_loss.avg,test_top1.avg))\n",
    "    writer.add_scalar(\"train_loss\",train_loss.avg,epoch)\n",
    "    writer.add_scalar(\"test_loss\",test_loss.avg,epoch)    \n",
    "    writer.add_scalar(\"train_top1\",train_top1.avg,epoch)\n",
    "    writer.add_scalar(\"test_top1\",test_top1.avg,epoch)"
   ]
  },
  {
   "cell_type": "markdown",
   "metadata": {},
   "source": [
    "## 直接迁移\n",
    "\n",
    "直接用mnist数据集训练的网络识别mnist_m数据集，准确率约为58%.可以看作领域适应方法准确率的下界。"
   ]
  },
  {
   "cell_type": "code",
   "execution_count": 9,
   "metadata": {},
   "outputs": [
    {
     "data": {
      "application/vnd.jupyter.widget-view+json": {
       "model_id": "d4cf549dbf414ee89a14fb28cfd371e0",
       "version_major": 2,
       "version_minor": 0
      },
      "text/plain": [
       "HBox(children=(FloatProgress(value=0.0, max=71.0), HTML(value='')))"
      ]
     },
     "metadata": {},
     "output_type": "display_data"
    },
    {
     "name": "stdout",
     "output_type": "stream",
     "text": [
      "\n",
      "Epoch:4,val,Loss:[1.303],prec[57.8491]\n"
     ]
    }
   ],
   "source": [
    "test_m_top1=AverageMeter()\n",
    "test_m_loss=AverageMeter()\n",
    "for images,labels in tqdm(test_m_dl):\n",
    "    images=images.cuda()\n",
    "    labels=labels.cuda()\n",
    "    predict=cnn_model(images)\n",
    "    losses=Loss(predict,labels)\n",
    "    test_m_loss.update(losses.data,images.size(0))\n",
    "    top1=accuracy(predict.data,labels,topk=(1,))[0]\n",
    "    test_m_top1.update(top1,images.size(0))\n",
    "print(\"Epoch:{},val,Loss:[{:.3f}],prec[{:.4f}]\".format(epoch,test_m_loss.avg,test_m_top1.avg))"
   ]
  },
  {
   "cell_type": "markdown",
   "metadata": {},
   "source": [
    "## 直接训练\n",
    "\n",
    "直接使用mnist_m训练，准确率约为96%，可以看坐领域适应方法准确率的上界。"
   ]
  },
  {
   "cell_type": "code",
   "execution_count": 10,
   "metadata": {},
   "outputs": [
    {
     "data": {
      "application/vnd.jupyter.widget-view+json": {
       "model_id": "7d7af153dbf542418882c328fc8069d8",
       "version_major": 2,
       "version_minor": 0
      },
      "text/plain": [
       "HBox(children=(FloatProgress(value=0.0, max=461.0), HTML(value='')))"
      ]
     },
     "metadata": {},
     "output_type": "display_data"
    },
    {
     "name": "stdout",
     "output_type": "stream",
     "text": [
      "Epoch:0[100/469],Loss:[0.259,0.659],prec[90.6250,79.5469]\n",
      "Epoch:0[200/469],Loss:[0.235,0.488],prec[91.4062,84.7852]\n",
      "Epoch:0[300/469],Loss:[0.142,0.405],prec[95.3125,87.3620]\n",
      "Epoch:0[400/469],Loss:[0.209,0.359],prec[94.5312,88.8027]\n",
      "\n"
     ]
    },
    {
     "data": {
      "application/vnd.jupyter.widget-view+json": {
       "model_id": "133018a21de24b27abf290e9769c5a28",
       "version_major": 2,
       "version_minor": 0
      },
      "text/plain": [
       "HBox(children=(FloatProgress(value=0.0, max=71.0), HTML(value='')))"
      ]
     },
     "metadata": {},
     "output_type": "display_data"
    },
    {
     "name": "stdout",
     "output_type": "stream",
     "text": [
      "\n",
      "Epoch:0,val,Loss:[0.172],prec[94.7339]\n"
     ]
    },
    {
     "data": {
      "application/vnd.jupyter.widget-view+json": {
       "model_id": "a68e98886b5f49148ffd18e5de966e5c",
       "version_major": 2,
       "version_minor": 0
      },
      "text/plain": [
       "HBox(children=(FloatProgress(value=0.0, max=461.0), HTML(value='')))"
      ]
     },
     "metadata": {},
     "output_type": "display_data"
    },
    {
     "name": "stdout",
     "output_type": "stream",
     "text": [
      "Epoch:1[100/469],Loss:[0.107,0.163],prec[96.0938,95.0156]\n",
      "Epoch:1[200/469],Loss:[0.126,0.157],prec[96.0938,95.1055]\n",
      "Epoch:1[300/469],Loss:[0.120,0.153],prec[96.8750,95.1927]\n",
      "Epoch:1[400/469],Loss:[0.096,0.149],prec[96.8750,95.2930]\n",
      "\n"
     ]
    },
    {
     "data": {
      "application/vnd.jupyter.widget-view+json": {
       "model_id": "55c2ddea1e8e4190a45d452dd79f4341",
       "version_major": 2,
       "version_minor": 0
      },
      "text/plain": [
       "HBox(children=(FloatProgress(value=0.0, max=71.0), HTML(value='')))"
      ]
     },
     "metadata": {},
     "output_type": "display_data"
    },
    {
     "name": "stdout",
     "output_type": "stream",
     "text": [
      "\n",
      "Epoch:1,val,Loss:[0.145],prec[95.4561]\n"
     ]
    },
    {
     "data": {
      "application/vnd.jupyter.widget-view+json": {
       "model_id": "fbf787029fb44ff98ec5dea5ec565664",
       "version_major": 2,
       "version_minor": 0
      },
      "text/plain": [
       "HBox(children=(FloatProgress(value=0.0, max=461.0), HTML(value='')))"
      ]
     },
     "metadata": {},
     "output_type": "display_data"
    },
    {
     "name": "stdout",
     "output_type": "stream",
     "text": [
      "Epoch:2[100/469],Loss:[0.052,0.108],prec[99.2188,96.4062]\n",
      "Epoch:2[200/469],Loss:[0.108,0.112],prec[96.8750,96.3359]\n",
      "Epoch:2[300/469],Loss:[0.152,0.111],prec[93.7500,96.4141]\n",
      "Epoch:2[400/469],Loss:[0.191,0.112],prec[92.9688,96.3887]\n",
      "\n"
     ]
    },
    {
     "data": {
      "application/vnd.jupyter.widget-view+json": {
       "model_id": "b363c236417742eb9b40b378ff5f0d09",
       "version_major": 2,
       "version_minor": 0
      },
      "text/plain": [
       "HBox(children=(FloatProgress(value=0.0, max=71.0), HTML(value='')))"
      ]
     },
     "metadata": {},
     "output_type": "display_data"
    },
    {
     "name": "stdout",
     "output_type": "stream",
     "text": [
      "\n",
      "Epoch:2,val,Loss:[0.125],prec[95.9671]\n"
     ]
    },
    {
     "data": {
      "application/vnd.jupyter.widget-view+json": {
       "model_id": "7b1405be408847a7b8753faf3067bf24",
       "version_major": 2,
       "version_minor": 0
      },
      "text/plain": [
       "HBox(children=(FloatProgress(value=0.0, max=461.0), HTML(value='')))"
      ]
     },
     "metadata": {},
     "output_type": "display_data"
    },
    {
     "name": "stdout",
     "output_type": "stream",
     "text": [
      "Epoch:3[100/469],Loss:[0.076,0.080],prec[97.6562,97.4062]\n",
      "Epoch:3[200/469],Loss:[0.157,0.084],prec[95.3125,97.3438]\n",
      "Epoch:3[300/469],Loss:[0.051,0.086],prec[100.0000,97.2448]\n",
      "Epoch:3[400/469],Loss:[0.116,0.087],prec[95.3125,97.1992]\n",
      "\n"
     ]
    },
    {
     "data": {
      "application/vnd.jupyter.widget-view+json": {
       "model_id": "bb986906f2db4266a7844bf4f93345a3",
       "version_major": 2,
       "version_minor": 0
      },
      "text/plain": [
       "HBox(children=(FloatProgress(value=0.0, max=71.0), HTML(value='')))"
      ]
     },
     "metadata": {},
     "output_type": "display_data"
    },
    {
     "name": "stdout",
     "output_type": "stream",
     "text": [
      "\n",
      "Epoch:3,val,Loss:[0.114],prec[96.5337]\n"
     ]
    },
    {
     "data": {
      "application/vnd.jupyter.widget-view+json": {
       "model_id": "b0eb87f0bb764515aa7d02847df79f76",
       "version_major": 2,
       "version_minor": 0
      },
      "text/plain": [
       "HBox(children=(FloatProgress(value=0.0, max=461.0), HTML(value='')))"
      ]
     },
     "metadata": {},
     "output_type": "display_data"
    },
    {
     "name": "stdout",
     "output_type": "stream",
     "text": [
      "Epoch:4[100/469],Loss:[0.073,0.069],prec[97.6562,97.6797]\n",
      "Epoch:4[200/469],Loss:[0.050,0.071],prec[98.4375,97.6055]\n",
      "Epoch:4[300/469],Loss:[0.089,0.073],prec[97.6562,97.5911]\n",
      "Epoch:4[400/469],Loss:[0.083,0.073],prec[96.8750,97.5703]\n",
      "\n"
     ]
    },
    {
     "data": {
      "application/vnd.jupyter.widget-view+json": {
       "model_id": "3a4a7c73ba864aaf9ca9d5a0be195c2f",
       "version_major": 2,
       "version_minor": 0
      },
      "text/plain": [
       "HBox(children=(FloatProgress(value=0.0, max=71.0), HTML(value='')))"
      ]
     },
     "metadata": {},
     "output_type": "display_data"
    },
    {
     "name": "stdout",
     "output_type": "stream",
     "text": [
      "\n",
      "Epoch:4,val,Loss:[0.117],prec[96.3337]\n"
     ]
    }
   ],
   "source": [
    "train_loss=AverageMeter()\n",
    "test_loss=AverageMeter()\n",
    "test_top1=AverageMeter()\n",
    "train_top1=AverageMeter()\n",
    "train_cnt=AverageMeter()\n",
    "print_freq=100\n",
    "cnn_model.cuda()\n",
    "epochs=5\n",
    "for epoch in range(epochs):\n",
    "    lr=adjust_learning_rate(optimizer,epoch)\n",
    "    writer.add_scalar(\"lr\",lr,epoch)\n",
    "    train_loss.reset()\n",
    "    train_top1.reset()\n",
    "    train_cnt.reset()\n",
    "    test_top1.reset()\n",
    "    test_loss.reset()\n",
    "    for images,labels in tqdm(train_m_dl):\n",
    "        images=images.cuda()\n",
    "        labels=labels.cuda()\n",
    "        optimizer.zero_grad()\n",
    "        predict=cnn_model(images)\n",
    "        losses=Loss(predict,labels)\n",
    "        train_loss.update(losses.data,images.size(0))\n",
    "        top1=accuracy(predict.data,labels,topk=(1,))[0]\n",
    "        train_top1.update(top1,images.size(0))\n",
    "        train_cnt.update(images.size(0),1)\n",
    "        losses.backward()\n",
    "        optimizer.step()\n",
    "        if train_cnt.count%print_freq==0:\n",
    "            print(\"Epoch:{}[{}/{}],Loss:[{:.3f},{:.3f}],prec[{:.4f},{:.4f}]\".format(epoch,train_cnt.count,len(train_dl),train_loss.val,train_loss.avg,\n",
    "                                                                   train_top1.val,train_top1.avg))\n",
    "    for images,labels in tqdm(test_m_dl):\n",
    "        images=images.cuda()\n",
    "        labels=labels.cuda()\n",
    "        predict=cnn_model(images)\n",
    "        losses=Loss(predict,labels)\n",
    "        test_loss.update(losses.data,images.size(0))\n",
    "        top1=accuracy(predict.data,labels,topk=(1,))[0]\n",
    "        test_top1.update(top1,images.size(0))\n",
    "    print(\"Epoch:{},val,Loss:[{:.3f}],prec[{:.4f}]\".format(epoch,test_loss.avg,test_top1.avg))\n",
    "    writer.add_scalar(\"train_loss\",train_loss.avg,epoch)\n",
    "    writer.add_scalar(\"test_loss\",test_loss.avg,epoch)    \n",
    "    writer.add_scalar(\"train_top1\",train_top1.avg,epoch)\n",
    "    writer.add_scalar(\"test_top1\",test_top1.avg,epoch)"
   ]
  },
  {
   "cell_type": "markdown",
   "metadata": {},
   "source": [
    "## GRL\n",
    "\n",
    "梯度反转层，这一层正向表现为恒等变换，反向传播是改变梯度的符号，alpha用来平衡域损失的权重。"
   ]
  },
  {
   "cell_type": "code",
   "execution_count": 11,
   "metadata": {},
   "outputs": [],
   "source": [
    "from torch.autograd import Function\n",
    "\n",
    "class GRL(Function):\n",
    "    @staticmethod\n",
    "    def forward(ctx, x, alpha):\n",
    "        ctx.alpha = alpha\n",
    "        return x.view_as(x)\n",
    "\n",
    "    @staticmethod\n",
    "    def backward(ctx, grad_output):\n",
    "        output = grad_output.neg() * ctx.alpha\n",
    "        return output, None"
   ]
  },
  {
   "cell_type": "markdown",
   "metadata": {},
   "source": [
    "## DANN"
   ]
  },
  {
   "cell_type": "code",
   "execution_count": 14,
   "metadata": {},
   "outputs": [],
   "source": [
    "class DANN(nn.Module):\n",
    "    def __init__(self,num_classes=10):\n",
    "        super(DANN,self).__init__()\n",
    "        self.features=nn.Sequential(\n",
    "            nn.Conv2d(3,32,5),\n",
    "            nn.ReLU(inplace=True),\n",
    "            nn.MaxPool2d(2),\n",
    "            nn.Conv2d(32,48,5),\n",
    "            nn.ReLU(inplace=True),\n",
    "            nn.MaxPool2d(2),\n",
    "        )\n",
    "        self.avgpool=nn.AdaptiveAvgPool2d((5,5))\n",
    "        self.task_classifier=nn.Sequential(\n",
    "            nn.Linear(48*5*5,100),\n",
    "            nn.ReLU(inplace=True),\n",
    "            nn.Linear(100,100),\n",
    "            nn.ReLU(inplace=True),\n",
    "            nn.Linear(100,num_classes)\n",
    "        )\n",
    "        self.domain_classifier=nn.Sequential(\n",
    "            nn.Linear(48*5*5,100),\n",
    "            nn.ReLU(inplace=True),\n",
    "            nn.Linear(100,2)\n",
    "        )\n",
    "        self.GRL=GRL()\n",
    "    def forward(self,x,alpha):\n",
    "        x = x.expand(x.data.shape[0], 3, image_size,image_size)\n",
    "        x=self.features(x)\n",
    "        x=self.avgpool(x)\n",
    "        x=torch.flatten(x,1)\n",
    "        task_predict=self.task_classifier(x)\n",
    "        x=GRL.apply(x,alpha)\n",
    "        domain_predict=self.domain_classifier(x)\n",
    "        return task_predict,domain_predict"
   ]
  },
  {
   "cell_type": "markdown",
   "metadata": {},
   "source": [
    "## 领域迁移训练\n",
    "\n",
    "使用DANN进行领域迁移训练，使用mnist上的有标签数据和mnist_m上的无标签数据，准确率约为83%."
   ]
  },
  {
   "cell_type": "code",
   "execution_count": 16,
   "metadata": {
    "scrolled": false
   },
   "outputs": [
    {
     "name": "stdout",
     "output_type": "stream",
     "text": [
      "Epoch:0[200/469],Loss:[0.977,1.207],domain loss:[0.834,0.554],label loss:[0.045,0.404],prec[98.4375,87.3945],alpha:0.02131873182952404\n",
      "Epoch:0[400/469],Loss:[0.588,1.019],domain loss:[0.354,0.536],label loss:[0.063,0.250],prec[99.2188,92.2266],alpha:0.04261809214949608\n"
     ]
    },
    {
     "data": {
      "application/vnd.jupyter.widget-view+json": {
       "model_id": "0b3f23f4b5bb4c249dbdcbb3e9595258",
       "version_major": 2,
       "version_minor": 0
      },
      "text/plain": [
       "HBox(children=(FloatProgress(value=0.0, max=71.0), HTML(value='')))"
      ]
     },
     "metadata": {},
     "output_type": "display_data"
    },
    {
     "name": "stdout",
     "output_type": "stream",
     "text": [
      "\n",
      "Epoch:0,val,Loss:[1.235],prec[61.9376],domain_acc[77.7247]\n",
      "Epoch:1[200/469],Loss:[0.590,0.574],domain loss:[0.387,0.353],label loss:[0.070,0.059],prec[97.6562,98.1211],alpha:0.07120127230882645\n",
      "Epoch:1[400/469],Loss:[0.680,0.744],domain loss:[0.427,0.443],label loss:[0.134,0.070],prec[96.8750,97.8359],alpha:0.09237977862358093\n"
     ]
    },
    {
     "data": {
      "application/vnd.jupyter.widget-view+json": {
       "model_id": "6c8d733a371445c6bd653912a945286a",
       "version_major": 2,
       "version_minor": 0
      },
      "text/plain": [
       "HBox(children=(FloatProgress(value=0.0, max=71.0), HTML(value='')))"
      ]
     },
     "metadata": {},
     "output_type": "display_data"
    },
    {
     "name": "stdout",
     "output_type": "stream",
     "text": [
      "\n",
      "Epoch:1,val,Loss:[1.270],prec[59.6600],domain_acc[79.5578]\n",
      "Epoch:2[200/469],Loss:[1.079,0.687],domain loss:[0.667,0.402],label loss:[0.050,0.062],prec[98.4375,98.2266],alpha:0.1207301989197731\n",
      "Epoch:2[400/469],Loss:[0.588,0.640],domain loss:[0.327,0.374],label loss:[0.033,0.061],prec[97.6562,98.1700],alpha:0.14168426394462585\n"
     ]
    },
    {
     "data": {
      "application/vnd.jupyter.widget-view+json": {
       "model_id": "99df9a1ee493413da93bbb581e56cab4",
       "version_major": 2,
       "version_minor": 0
      },
      "text/plain": [
       "HBox(children=(FloatProgress(value=0.0, max=71.0), HTML(value='')))"
      ]
     },
     "metadata": {},
     "output_type": "display_data"
    },
    {
     "name": "stdout",
     "output_type": "stream",
     "text": [
      "\n",
      "Epoch:2,val,Loss:[2.051],prec[53.3163],domain_acc[81.1169]\n",
      "Epoch:3[200/469],Loss:[0.423,0.677],domain loss:[0.228,0.364],label loss:[0.047,0.083],prec[98.4375,97.3984],alpha:0.16966524720191956\n",
      "Epoch:3[400/469],Loss:[0.420,0.608],domain loss:[0.196,0.332],label loss:[0.021,0.068],prec[99.2188,97.9044],alpha:0.19029566645622253\n"
     ]
    },
    {
     "data": {
      "application/vnd.jupyter.widget-view+json": {
       "model_id": "02ff509001c84b7998096b721d36f571",
       "version_major": 2,
       "version_minor": 0
      },
      "text/plain": [
       "HBox(children=(FloatProgress(value=0.0, max=71.0), HTML(value='')))"
      ]
     },
     "metadata": {},
     "output_type": "display_data"
    },
    {
     "name": "stdout",
     "output_type": "stream",
     "text": [
      "\n",
      "Epoch:3,val,Loss:[1.395],prec[58.5602],domain_acc[81.7604]\n",
      "Epoch:4[200/469],Loss:[0.604,0.528],domain loss:[0.254,0.301],label loss:[0.053,0.046],prec[97.6562,98.5703],alpha:0.21777768433094025\n",
      "Epoch:4[400/469],Loss:[0.607,0.526],domain loss:[0.304,0.297],label loss:[0.155,0.048],prec[98.4375,98.5098],alpha:0.23799148201942444\n"
     ]
    },
    {
     "data": {
      "application/vnd.jupyter.widget-view+json": {
       "model_id": "679149ae337647249497c4f09cbdde0f",
       "version_major": 2,
       "version_minor": 0
      },
      "text/plain": [
       "HBox(children=(FloatProgress(value=0.0, max=71.0), HTML(value='')))"
      ]
     },
     "metadata": {},
     "output_type": "display_data"
    },
    {
     "name": "stdout",
     "output_type": "stream",
     "text": [
      "\n",
      "Epoch:4,val,Loss:[1.358],prec[59.6711],domain_acc[83.5107]\n",
      "Epoch:5[200/469],Loss:[0.468,0.484],domain loss:[0.149,0.268],label loss:[0.016,0.044],prec[99.2188,98.6211],alpha:0.2648544907569885\n",
      "Epoch:5[400/469],Loss:[0.566,0.581],domain loss:[0.423,0.316],label loss:[0.009,0.056],prec[100.0000,98.2715],alpha:0.2845664620399475\n"
     ]
    },
    {
     "data": {
      "application/vnd.jupyter.widget-view+json": {
       "model_id": "48fa42e13ba643f7aa428f9a22bc286c",
       "version_major": 2,
       "version_minor": 0
      },
      "text/plain": [
       "HBox(children=(FloatProgress(value=0.0, max=71.0), HTML(value='')))"
      ]
     },
     "metadata": {},
     "output_type": "display_data"
    },
    {
     "name": "stdout",
     "output_type": "stream",
     "text": [
      "\n",
      "Epoch:5,val,Loss:[1.644],prec[58.7268],domain_acc[85.1683]\n",
      "Epoch:6[200/469],Loss:[0.435,0.690],domain loss:[0.172,0.349],label loss:[0.049,0.093],prec[99.2188,97.3672],alpha:0.31070175766944885\n",
      "Epoch:6[400/469],Loss:[0.636,0.584],domain loss:[0.350,0.305],label loss:[0.057,0.072],prec[99.2188,97.9668],alpha:0.3298357427120209\n"
     ]
    },
    {
     "data": {
      "application/vnd.jupyter.widget-view+json": {
       "model_id": "952dbd0109994ccebce5bf781fed7742",
       "version_major": 2,
       "version_minor": 0
      },
      "text/plain": [
       "HBox(children=(FloatProgress(value=0.0, max=71.0), HTML(value='')))"
      ]
     },
     "metadata": {},
     "output_type": "display_data"
    },
    {
     "name": "stdout",
     "output_type": "stream",
     "text": [
      "\n",
      "Epoch:6,val,Loss:[1.433],prec[59.3823],domain_acc[86.1031]\n",
      "Epoch:7[200/469],Loss:[0.778,0.570],domain loss:[0.297,0.295],label loss:[0.076,0.045],prec[97.6562,98.6719],alpha:0.35514748096466064\n",
      "Epoch:7[400/469],Loss:[0.679,0.569],domain loss:[0.349,0.299],label loss:[0.050,0.053],prec[98.4375,98.4337],alpha:0.37363728880882263\n"
     ]
    },
    {
     "data": {
      "application/vnd.jupyter.widget-view+json": {
       "model_id": "0463245fdfb64a498553dc0124279758",
       "version_major": 2,
       "version_minor": 0
      },
      "text/plain": [
       "HBox(children=(FloatProgress(value=0.0, max=71.0), HTML(value='')))"
      ]
     },
     "metadata": {},
     "output_type": "display_data"
    },
    {
     "name": "stdout",
     "output_type": "stream",
     "text": [
      "\n",
      "Epoch:7,val,Loss:[2.182],prec[55.7605],domain_acc[84.8308]\n",
      "Epoch:8[200/469],Loss:[0.832,0.692],domain loss:[0.316,0.347],label loss:[0.125,0.074],prec[95.3125,97.7735],alpha:0.39804354310035706\n",
      "Epoch:8[400/469],Loss:[0.788,0.682],domain loss:[0.350,0.330],label loss:[0.109,0.068],prec[97.6562,98.0137],alpha:0.41583359241485596\n"
     ]
    },
    {
     "data": {
      "application/vnd.jupyter.widget-view+json": {
       "model_id": "853191f7b5574952ab5c39f10007933f",
       "version_major": 2,
       "version_minor": 0
      },
      "text/plain": [
       "HBox(children=(FloatProgress(value=0.0, max=71.0), HTML(value='')))"
      ]
     },
     "metadata": {},
     "output_type": "display_data"
    },
    {
     "name": "stdout",
     "output_type": "stream",
     "text": [
      "\n",
      "Epoch:8,val,Loss:[2.493],prec[56.3937],domain_acc[84.7523]\n",
      "Epoch:9[200/469],Loss:[0.866,0.985],domain loss:[0.449,0.411],label loss:[0.182,0.110],prec[95.3125,97.0898],alpha:0.4392668306827545\n",
      "Epoch:9[400/469],Loss:[1.133,1.028],domain loss:[0.527,0.439],label loss:[0.245,0.114],prec[95.3125,96.8827],alpha:0.456312358379364\n"
     ]
    },
    {
     "data": {
      "application/vnd.jupyter.widget-view+json": {
       "model_id": "596f9abff1c74697b0890a984de9e463",
       "version_major": 2,
       "version_minor": 0
      },
      "text/plain": [
       "HBox(children=(FloatProgress(value=0.0, max=71.0), HTML(value='')))"
      ]
     },
     "metadata": {},
     "output_type": "display_data"
    },
    {
     "name": "stdout",
     "output_type": "stream",
     "text": [
      "\n",
      "Epoch:9,val,Loss:[2.505],prec[59.6600],domain_acc[84.4939]\n",
      "Epoch:10[200/469],Loss:[1.085,0.837],domain loss:[0.300,0.374],label loss:[0.079,0.093],prec[96.8750,97.3711],alpha:0.47871965169906616\n",
      "Epoch:10[400/469],Loss:[0.775,0.984],domain loss:[0.246,0.428],label loss:[0.181,0.106],prec[95.3125,97.0684],alpha:0.49498671293258667\n"
     ]
    },
    {
     "data": {
      "application/vnd.jupyter.widget-view+json": {
       "model_id": "3f51722366404308956f6804cc94507c",
       "version_major": 2,
       "version_minor": 0
      },
      "text/plain": [
       "HBox(children=(FloatProgress(value=0.0, max=71.0), HTML(value='')))"
      ]
     },
     "metadata": {},
     "output_type": "display_data"
    },
    {
     "name": "stdout",
     "output_type": "stream",
     "text": [
      "\n",
      "Epoch:10,val,Loss:[2.768],prec[58.6379],domain_acc[85.3067]\n",
      "Epoch:11[200/469],Loss:[1.212,1.070],domain loss:[0.511,0.469],label loss:[0.136,0.118],prec[96.0938,96.5274],alpha:0.5163294672966003\n",
      "Epoch:11[400/469],Loss:[0.963,1.081],domain loss:[0.340,0.461],label loss:[0.037,0.107],prec[99.2188,96.8262],alpha:0.5317944884300232\n"
     ]
    },
    {
     "data": {
      "application/vnd.jupyter.widget-view+json": {
       "model_id": "af12310a82f34b20a566188317772eda",
       "version_major": 2,
       "version_minor": 0
      },
      "text/plain": [
       "HBox(children=(FloatProgress(value=0.0, max=71.0), HTML(value='')))"
      ]
     },
     "metadata": {},
     "output_type": "display_data"
    },
    {
     "name": "stdout",
     "output_type": "stream",
     "text": [
      "\n",
      "Epoch:11,val,Loss:[3.159],prec[58.7379],domain_acc[84.8026]\n",
      "Epoch:12[200/469],Loss:[1.140,1.120],domain loss:[0.550,0.465],label loss:[0.093,0.098],prec[98.4375,96.9648],alpha:0.5520477890968323\n",
      "Epoch:12[400/469],Loss:[1.227,1.088],domain loss:[0.678,0.459],label loss:[0.034,0.095],prec[99.2188,97.0781],alpha:0.5666970610618591\n"
     ]
    },
    {
     "data": {
      "application/vnd.jupyter.widget-view+json": {
       "model_id": "e04fced654dd4a0388988b2d8ee80f51",
       "version_major": 2,
       "version_minor": 0
      },
      "text/plain": [
       "HBox(children=(FloatProgress(value=0.0, max=71.0), HTML(value='')))"
      ]
     },
     "metadata": {},
     "output_type": "display_data"
    },
    {
     "name": "stdout",
     "output_type": "stream",
     "text": [
      "\n",
      "Epoch:12,val,Loss:[3.164],prec[59.0823],domain_acc[84.4445]\n",
      "Epoch:13[200/469],Loss:[1.187,1.179],domain loss:[0.584,0.492],label loss:[0.025,0.092],prec[100.0000,97.0586],alpha:0.5858488082885742\n",
      "Epoch:13[400/469],Loss:[1.255,1.212],domain loss:[0.401,0.512],label loss:[0.142,0.096],prec[94.5312,96.9726],alpha:0.5996778011322021\n"
     ]
    },
    {
     "data": {
      "application/vnd.jupyter.widget-view+json": {
       "model_id": "34e592e5e60f4cbdb0e0ddb28be25023",
       "version_major": 2,
       "version_minor": 0
      },
      "text/plain": [
       "HBox(children=(FloatProgress(value=0.0, max=71.0), HTML(value='')))"
      ]
     },
     "metadata": {},
     "output_type": "display_data"
    },
    {
     "name": "stdout",
     "output_type": "stream",
     "text": [
      "\n",
      "Epoch:13,val,Loss:[2.182],prec[60.5155],domain_acc[84.3859]\n",
      "Epoch:14[200/469],Loss:[1.176,1.073],domain loss:[0.594,0.531],label loss:[0.116,0.088],prec[96.0938,97.3906],alpha:0.617727518081665\n",
      "Epoch:14[400/469],Loss:[1.090,1.080],domain loss:[0.574,0.528],label loss:[0.044,0.080],prec[97.6562,97.5937],alpha:0.6307399272918701\n"
     ]
    },
    {
     "data": {
      "application/vnd.jupyter.widget-view+json": {
       "model_id": "f0a03a7136024c39b1a9237cef3523fc",
       "version_major": 2,
       "version_minor": 0
      },
      "text/plain": [
       "HBox(children=(FloatProgress(value=0.0, max=71.0), HTML(value='')))"
      ]
     },
     "metadata": {},
     "output_type": "display_data"
    },
    {
     "name": "stdout",
     "output_type": "stream",
     "text": [
      "\n",
      "Epoch:14,val,Loss:[1.604],prec[63.7151],domain_acc[83.0374]\n",
      "Epoch:15[200/469],Loss:[1.137,1.140],domain loss:[0.466,0.541],label loss:[0.039,0.071],prec[99.2188,97.8750],alpha:0.6476975083351135\n",
      "Epoch:15[400/469],Loss:[1.162,1.169],domain loss:[0.476,0.546],label loss:[0.074,0.074],prec[97.6562,97.7735],alpha:0.6599041819572449\n"
     ]
    },
    {
     "data": {
      "application/vnd.jupyter.widget-view+json": {
       "model_id": "7779de894ee1451aa22c156804a90b00",
       "version_major": 2,
       "version_minor": 0
      },
      "text/plain": [
       "HBox(children=(FloatProgress(value=0.0, max=71.0), HTML(value='')))"
      ]
     },
     "metadata": {},
     "output_type": "display_data"
    },
    {
     "name": "stdout",
     "output_type": "stream",
     "text": [
      "\n",
      "Epoch:15,val,Loss:[1.526],prec[63.5929],domain_acc[81.8013]\n",
      "Epoch:16[200/469],Loss:[1.116,1.225],domain loss:[0.450,0.581],label loss:[0.057,0.088],prec[97.6562,97.4453],alpha:0.6757887601852417\n",
      "Epoch:16[400/469],Loss:[1.375,1.208],domain loss:[0.455,0.596],label loss:[0.057,0.080],prec[96.8750,97.6153],alpha:0.6872069239616394\n"
     ]
    },
    {
     "data": {
      "application/vnd.jupyter.widget-view+json": {
       "model_id": "246422088edf4ce18a05e34c11bc96f2",
       "version_major": 2,
       "version_minor": 0
      },
      "text/plain": [
       "HBox(children=(FloatProgress(value=0.0, max=71.0), HTML(value='')))"
      ]
     },
     "metadata": {},
     "output_type": "display_data"
    },
    {
     "name": "stdout",
     "output_type": "stream",
     "text": [
      "\n",
      "Epoch:16,val,Loss:[2.131],prec[63.8151],domain_acc[81.1773]\n",
      "Epoch:17[200/469],Loss:[1.303,1.195],domain loss:[0.506,0.599],label loss:[0.081,0.061],prec[96.8750,98.1289],alpha:0.7020451426506042\n",
      "Epoch:17[400/469],Loss:[1.180,1.224],domain loss:[0.581,0.595],label loss:[0.040,0.064],prec[98.4375,98.0879],alpha:0.7126971483230591\n"
     ]
    },
    {
     "data": {
      "application/vnd.jupyter.widget-view+json": {
       "model_id": "2b4785d3018641788028ee6e854a80f6",
       "version_major": 2,
       "version_minor": 0
      },
      "text/plain": [
       "HBox(children=(FloatProgress(value=0.0, max=71.0), HTML(value='')))"
      ]
     },
     "metadata": {},
     "output_type": "display_data"
    },
    {
     "name": "stdout",
     "output_type": "stream",
     "text": [
      "\n",
      "Epoch:17,val,Loss:[1.716],prec[63.7596],domain_acc[80.7886]\n",
      "Epoch:18[200/469],Loss:[1.187,1.161],domain loss:[0.540,0.569],label loss:[0.056,0.063],prec[97.6562,98.0937],alpha:0.7265222072601318\n",
      "Epoch:18[400/469],Loss:[1.231,1.177],domain loss:[0.569,0.583],label loss:[0.080,0.067],prec[96.8750,97.9551],alpha:0.7364346385002136\n"
     ]
    },
    {
     "data": {
      "application/vnd.jupyter.widget-view+json": {
       "model_id": "e8797e87c42c4036869eee2ae57dcee0",
       "version_major": 2,
       "version_minor": 0
      },
      "text/plain": [
       "HBox(children=(FloatProgress(value=0.0, max=71.0), HTML(value='')))"
      ]
     },
     "metadata": {},
     "output_type": "display_data"
    },
    {
     "name": "stdout",
     "output_type": "stream",
     "text": [
      "\n",
      "Epoch:18,val,Loss:[1.434],prec[66.9037],domain_acc[79.5607]\n",
      "Epoch:19[200/469],Loss:[1.329,1.167],domain loss:[0.533,0.592],label loss:[0.099,0.069],prec[97.6562,97.8828],alpha:0.7492846250534058\n",
      "Epoch:19[400/469],Loss:[1.335,1.199],domain loss:[0.673,0.604],label loss:[0.091,0.070],prec[97.6562,97.8516],alpha:0.7584874629974365\n"
     ]
    },
    {
     "data": {
      "application/vnd.jupyter.widget-view+json": {
       "model_id": "0ccf062de4694390b030b7d3d1ceaab6",
       "version_major": 2,
       "version_minor": 0
      },
      "text/plain": [
       "HBox(children=(FloatProgress(value=0.0, max=71.0), HTML(value='')))"
      ]
     },
     "metadata": {},
     "output_type": "display_data"
    },
    {
     "name": "stdout",
     "output_type": "stream",
     "text": [
      "\n",
      "Epoch:19,val,Loss:[1.422],prec[66.1704],domain_acc[78.2974]\n",
      "Epoch:20[200/469],Loss:[1.086,1.225],domain loss:[0.452,0.589],label loss:[0.025,0.070],prec[99.2188,97.8164],alpha:0.7704044580459595\n",
      "Epoch:20[400/469],Loss:[1.204,1.218],domain loss:[0.556,0.596],label loss:[0.056,0.066],prec[97.6562,97.9688],alpha:0.7789300084114075\n"
     ]
    },
    {
     "data": {
      "application/vnd.jupyter.widget-view+json": {
       "model_id": "c0f0c456ee5f4025bf0e00ddaa89de7d",
       "version_major": 2,
       "version_minor": 0
      },
      "text/plain": [
       "HBox(children=(FloatProgress(value=0.0, max=71.0), HTML(value='')))"
      ]
     },
     "metadata": {},
     "output_type": "display_data"
    },
    {
     "name": "stdout",
     "output_type": "stream",
     "text": [
      "\n",
      "Epoch:20,val,Loss:[1.460],prec[67.2814],domain_acc[77.7977]\n",
      "Epoch:21[200/469],Loss:[1.236,1.264],domain loss:[0.524,0.613],label loss:[0.107,0.082],prec[97.6562,97.5078],alpha:0.7899587750434875\n",
      "Epoch:21[400/469],Loss:[1.133,1.229],domain loss:[0.574,0.602],label loss:[0.077,0.071],prec[97.6562,97.8496],alpha:0.7978411316871643\n"
     ]
    },
    {
     "data": {
      "application/vnd.jupyter.widget-view+json": {
       "model_id": "a11e7d9797c8475f83b739fc3470f79b",
       "version_major": 2,
       "version_minor": 0
      },
      "text/plain": [
       "HBox(children=(FloatProgress(value=0.0, max=71.0), HTML(value='')))"
      ]
     },
     "metadata": {},
     "output_type": "display_data"
    },
    {
     "name": "stdout",
     "output_type": "stream",
     "text": [
      "\n",
      "Epoch:21,val,Loss:[1.560],prec[67.6814],domain_acc[77.4611]\n",
      "Epoch:22[200/469],Loss:[1.147,1.206],domain loss:[0.509,0.580],label loss:[0.048,0.069],prec[99.2188,97.8867],alpha:0.8080282211303711\n",
      "Epoch:22[400/469],Loss:[1.253,1.209],domain loss:[0.543,0.587],label loss:[0.050,0.064],prec[97.6562,98.0177],alpha:0.8153024911880493\n"
     ]
    },
    {
     "data": {
      "application/vnd.jupyter.widget-view+json": {
       "model_id": "bc599ec130664aa9bfa95ac985b38357",
       "version_major": 2,
       "version_minor": 0
      },
      "text/plain": [
       "HBox(children=(FloatProgress(value=0.0, max=71.0), HTML(value='')))"
      ]
     },
     "metadata": {},
     "output_type": "display_data"
    },
    {
     "name": "stdout",
     "output_type": "stream",
     "text": [
      "\n",
      "Epoch:22,val,Loss:[1.462],prec[69.1256],domain_acc[77.3204]\n",
      "Epoch:23[200/469],Loss:[1.171,1.212],domain loss:[0.594,0.602],label loss:[0.065,0.061],prec[98.4375,98.1055],alpha:0.8246954679489136\n",
      "Epoch:23[400/469],Loss:[1.253,1.242],domain loss:[0.606,0.615],label loss:[0.084,0.062],prec[96.0938,98.0821],alpha:0.8313970565795898\n"
     ]
    },
    {
     "data": {
      "application/vnd.jupyter.widget-view+json": {
       "model_id": "50cc42409a9e47d8a42007f048e8c9d2",
       "version_major": 2,
       "version_minor": 0
      },
      "text/plain": [
       "HBox(children=(FloatProgress(value=0.0, max=71.0), HTML(value='')))"
      ]
     },
     "metadata": {},
     "output_type": "display_data"
    },
    {
     "name": "stdout",
     "output_type": "stream",
     "text": [
      "\n",
      "Epoch:23,val,Loss:[1.503],prec[68.2035],domain_acc[76.7405]\n",
      "Epoch:24[200/469],Loss:[1.364,1.294],domain loss:[0.612,0.623],label loss:[0.036,0.065],prec[98.4375,97.9492],alpha:0.8400437235832214\n",
      "Epoch:24[400/469],Loss:[1.162,1.266],domain loss:[0.560,0.614],label loss:[0.016,0.067],prec[100.0000,97.9180],alpha:0.8462079763412476\n"
     ]
    },
    {
     "data": {
      "application/vnd.jupyter.widget-view+json": {
       "model_id": "04403e5cf52b4f9c901128ef075cc5a4",
       "version_major": 2,
       "version_minor": 0
      },
      "text/plain": [
       "HBox(children=(FloatProgress(value=0.0, max=71.0), HTML(value='')))"
      ]
     },
     "metadata": {},
     "output_type": "display_data"
    },
    {
     "name": "stdout",
     "output_type": "stream",
     "text": [
      "\n",
      "Epoch:24,val,Loss:[1.255],prec[70.6477],domain_acc[76.1213]\n",
      "Epoch:25[200/469],Loss:[1.339,1.272],domain loss:[0.603,0.616],label loss:[0.040,0.057],prec[98.4375,98.1484],alpha:0.8541555404663086\n",
      "Epoch:25[400/469],Loss:[1.317,1.279],domain loss:[0.699,0.620],label loss:[0.068,0.064],prec[96.8750,97.9337],alpha:0.859817385673523\n"
     ]
    },
    {
     "data": {
      "application/vnd.jupyter.widget-view+json": {
       "model_id": "e170060c8ccf4ca89dbc2ef39b089866",
       "version_major": 2,
       "version_minor": 0
      },
      "text/plain": [
       "HBox(children=(FloatProgress(value=0.0, max=71.0), HTML(value='')))"
      ]
     },
     "metadata": {},
     "output_type": "display_data"
    },
    {
     "name": "stdout",
     "output_type": "stream",
     "text": [
      "\n",
      "Epoch:25,val,Loss:[1.403],prec[68.1702],domain_acc[74.8118]\n",
      "Epoch:26[200/469],Loss:[1.318,1.301],domain loss:[0.689,0.652],label loss:[0.079,0.067],prec[96.8750,98.0039],alpha:0.8671122789382935\n",
      "Epoch:26[400/469],Loss:[1.306,1.289],domain loss:[0.633,0.638],label loss:[0.062,0.063],prec[97.6562,98.1134],alpha:0.8723058104515076\n"
     ]
    },
    {
     "data": {
      "application/vnd.jupyter.widget-view+json": {
       "model_id": "8ed59f80e01644bbaa7d150313f30e23",
       "version_major": 2,
       "version_minor": 0
      },
      "text/plain": [
       "HBox(children=(FloatProgress(value=0.0, max=71.0), HTML(value='')))"
      ]
     },
     "metadata": {},
     "output_type": "display_data"
    },
    {
     "name": "stdout",
     "output_type": "stream",
     "text": [
      "\n",
      "Epoch:26,val,Loss:[1.301],prec[70.3700],domain_acc[73.7046]\n",
      "Epoch:27[200/469],Loss:[1.378,1.292],domain loss:[0.676,0.638],label loss:[0.098,0.056],prec[97.6562,98.2617],alpha:0.8789930939674377\n",
      "Epoch:27[400/469],Loss:[1.378,1.323],domain loss:[0.705,0.640],label loss:[0.103,0.065],prec[96.0938,97.9454],alpha:0.8837512135505676\n"
     ]
    },
    {
     "data": {
      "application/vnd.jupyter.widget-view+json": {
       "model_id": "76f22c3d3b4b4d4fa7b65d273092f498",
       "version_major": 2,
       "version_minor": 0
      },
      "text/plain": [
       "HBox(children=(FloatProgress(value=0.0, max=71.0), HTML(value='')))"
      ]
     },
     "metadata": {},
     "output_type": "display_data"
    },
    {
     "name": "stdout",
     "output_type": "stream",
     "text": [
      "\n",
      "Epoch:27,val,Loss:[1.325],prec[69.5145],domain_acc[72.2828]\n",
      "Epoch:28[200/469],Loss:[1.366,1.303],domain loss:[0.734,0.665],label loss:[0.111,0.062],prec[96.8750,98.0976],alpha:0.8898743987083435\n",
      "Epoch:28[400/469],Loss:[1.413,1.328],domain loss:[0.796,0.649],label loss:[0.141,0.066],prec[96.0938,98.0234],alpha:0.8942286968231201\n"
     ]
    },
    {
     "data": {
      "application/vnd.jupyter.widget-view+json": {
       "model_id": "a6daf4fe1c244bec84f1c050f2286716",
       "version_major": 2,
       "version_minor": 0
      },
      "text/plain": [
       "HBox(children=(FloatProgress(value=0.0, max=71.0), HTML(value='')))"
      ]
     },
     "metadata": {},
     "output_type": "display_data"
    },
    {
     "name": "stdout",
     "output_type": "stream",
     "text": [
      "\n",
      "Epoch:28,val,Loss:[1.496],prec[67.2148],domain_acc[71.9464]\n",
      "Epoch:29[200/469],Loss:[1.325,1.364],domain loss:[0.698,0.676],label loss:[0.025,0.055],prec[99.2188,98.2813],alpha:0.8998293280601501\n",
      "Epoch:29[400/469],Loss:[1.473,1.358],domain loss:[0.803,0.664],label loss:[0.022,0.057],prec[99.2188,98.1955],alpha:0.9038100838661194\n"
     ]
    },
    {
     "data": {
      "application/vnd.jupyter.widget-view+json": {
       "model_id": "84da01902ff74f8c87d5ed0a27e787d0",
       "version_major": 2,
       "version_minor": 0
      },
      "text/plain": [
       "HBox(children=(FloatProgress(value=0.0, max=71.0), HTML(value='')))"
      ]
     },
     "metadata": {},
     "output_type": "display_data"
    },
    {
     "name": "stdout",
     "output_type": "stream",
     "text": [
      "\n",
      "Epoch:29,val,Loss:[1.179],prec[71.0588],domain_acc[71.7839]\n",
      "Epoch:30[200/469],Loss:[1.335,1.354],domain loss:[0.708,0.659],label loss:[0.076,0.047],prec[98.4375,98.5352],alpha:0.9089277386665344\n",
      "Epoch:30[400/469],Loss:[1.339,1.345],domain loss:[0.717,0.660],label loss:[0.052,0.053],prec[99.2188,98.3848],alpha:0.9125635623931885\n"
     ]
    },
    {
     "data": {
      "application/vnd.jupyter.widget-view+json": {
       "model_id": "62101943ee1f40b1810583a3ad6bc047",
       "version_major": 2,
       "version_minor": 0
      },
      "text/plain": [
       "HBox(children=(FloatProgress(value=0.0, max=71.0), HTML(value='')))"
      ]
     },
     "metadata": {},
     "output_type": "display_data"
    },
    {
     "name": "stdout",
     "output_type": "stream",
     "text": [
      "\n",
      "Epoch:30,val,Loss:[1.310],prec[71.6476],domain_acc[71.8949]\n",
      "Epoch:31[200/469],Loss:[1.433,1.362],domain loss:[0.734,0.641],label loss:[0.038,0.050],prec[98.4375,98.3359],alpha:0.917235791683197\n",
      "Epoch:31[400/469],Loss:[1.322,1.374],domain loss:[0.742,0.649],label loss:[0.006,0.055],prec[100.0000,98.3087],alpha:0.9205537438392639\n"
     ]
    },
    {
     "data": {
      "application/vnd.jupyter.widget-view+json": {
       "model_id": "6b19291389ce490881bf164ba22a3133",
       "version_major": 2,
       "version_minor": 0
      },
      "text/plain": [
       "HBox(children=(FloatProgress(value=0.0, max=71.0), HTML(value='')))"
      ]
     },
     "metadata": {},
     "output_type": "display_data"
    },
    {
     "name": "stdout",
     "output_type": "stream",
     "text": [
      "\n",
      "Epoch:31,val,Loss:[1.133],prec[73.9362],domain_acc[70.8841]\n",
      "Epoch:32[200/469],Loss:[1.366,1.353],domain loss:[0.647,0.679],label loss:[0.087,0.052],prec[97.6562,98.3711],alpha:0.9248157739639282\n",
      "Epoch:32[400/469],Loss:[1.395,1.352],domain loss:[0.747,0.663],label loss:[0.025,0.055],prec[99.2188,98.3204],alpha:0.9278412461280823\n"
     ]
    },
    {
     "data": {
      "application/vnd.jupyter.widget-view+json": {
       "model_id": "c0fae860bc6e4eaeb393368a51ef6266",
       "version_major": 2,
       "version_minor": 0
      },
      "text/plain": [
       "HBox(children=(FloatProgress(value=0.0, max=71.0), HTML(value='')))"
      ]
     },
     "metadata": {},
     "output_type": "display_data"
    },
    {
     "name": "stdout",
     "output_type": "stream",
     "text": [
      "\n",
      "Epoch:32,val,Loss:[1.078],prec[73.2807],domain_acc[70.5430]\n",
      "Epoch:33[200/469],Loss:[1.245,1.317],domain loss:[0.634,0.649],label loss:[0.003,0.057],prec[100.0000,98.2539],alpha:0.9317262768745422\n",
      "Epoch:33[400/469],Loss:[1.364,1.321],domain loss:[0.676,0.649],label loss:[0.025,0.059],prec[99.2188,98.2443],alpha:0.9344831109046936\n"
     ]
    },
    {
     "data": {
      "application/vnd.jupyter.widget-view+json": {
       "model_id": "e2c2f7c596fc4ccc8402d1960a14d229",
       "version_major": 2,
       "version_minor": 0
      },
      "text/plain": [
       "HBox(children=(FloatProgress(value=0.0, max=71.0), HTML(value='')))"
      ]
     },
     "metadata": {},
     "output_type": "display_data"
    },
    {
     "name": "stdout",
     "output_type": "stream",
     "text": [
      "\n",
      "Epoch:33,val,Loss:[1.039],prec[73.8362],domain_acc[70.1007]\n",
      "Epoch:34[200/469],Loss:[1.439,1.376],domain loss:[0.764,0.661],label loss:[0.028,0.052],prec[99.2188,98.4571],alpha:0.9380220174789429\n",
      "Epoch:34[400/469],Loss:[1.385,1.362],domain loss:[0.660,0.660],label loss:[0.096,0.056],prec[97.6562,98.3126],alpha:0.9405325055122375\n"
     ]
    },
    {
     "data": {
      "application/vnd.jupyter.widget-view+json": {
       "model_id": "381fdec774654f5c953eb0f792ee7d63",
       "version_major": 2,
       "version_minor": 0
      },
      "text/plain": [
       "HBox(children=(FloatProgress(value=0.0, max=71.0), HTML(value='')))"
      ]
     },
     "metadata": {},
     "output_type": "display_data"
    },
    {
     "name": "stdout",
     "output_type": "stream",
     "text": [
      "\n",
      "Epoch:34,val,Loss:[1.322],prec[72.0142],domain_acc[70.0262]\n",
      "Epoch:35[200/469],Loss:[1.346,1.400],domain loss:[0.574,0.678],label loss:[0.050,0.065],prec[97.6562,98.0196],alpha:0.9437541365623474\n",
      "Epoch:35[400/469],Loss:[1.473,1.391],domain loss:[0.654,0.661],label loss:[0.147,0.062],prec[96.8750,98.1114],alpha:0.9460389018058777\n"
     ]
    },
    {
     "data": {
      "application/vnd.jupyter.widget-view+json": {
       "model_id": "1796a0eef9a947ec8d66b374ac1474ae",
       "version_major": 2,
       "version_minor": 0
      },
      "text/plain": [
       "HBox(children=(FloatProgress(value=0.0, max=71.0), HTML(value='')))"
      ]
     },
     "metadata": {},
     "output_type": "display_data"
    },
    {
     "name": "stdout",
     "output_type": "stream",
     "text": [
      "\n",
      "Epoch:35,val,Loss:[1.067],prec[74.5695],domain_acc[69.7401]\n",
      "Epoch:36[200/469],Loss:[1.369,1.369],domain loss:[0.673,0.655],label loss:[0.096,0.051],prec[98.4375,98.3906],alpha:0.9489700794219971\n",
      "Epoch:36[400/469],Loss:[1.351,1.377],domain loss:[0.649,0.665],label loss:[0.017,0.052],prec[100.0000,98.3888],alpha:0.9510483145713806\n"
     ]
    },
    {
     "data": {
      "application/vnd.jupyter.widget-view+json": {
       "model_id": "ed37add197654d7ab977f34bca23c1cc",
       "version_major": 2,
       "version_minor": 0
      },
      "text/plain": [
       "HBox(children=(FloatProgress(value=0.0, max=71.0), HTML(value='')))"
      ]
     },
     "metadata": {},
     "output_type": "display_data"
    },
    {
     "name": "stdout",
     "output_type": "stream",
     "text": [
      "\n",
      "Epoch:36,val,Loss:[1.088],prec[74.8361],domain_acc[69.7823]\n",
      "Epoch:37[200/469],Loss:[1.310,1.405],domain loss:[0.613,0.672],label loss:[0.001,0.054],prec[100.0000,98.3867],alpha:0.9537138342857361\n",
      "Epoch:37[400/469],Loss:[1.429,1.407],domain loss:[0.674,0.679],label loss:[0.071,0.052],prec[99.2188,98.4082],alpha:0.9556032419204712\n"
     ]
    },
    {
     "data": {
      "application/vnd.jupyter.widget-view+json": {
       "model_id": "59aeb7bb310f4dfbb89f34ae70876e1c",
       "version_major": 2,
       "version_minor": 0
      },
      "text/plain": [
       "HBox(children=(FloatProgress(value=0.0, max=71.0), HTML(value='')))"
      ]
     },
     "metadata": {},
     "output_type": "display_data"
    },
    {
     "name": "stdout",
     "output_type": "stream",
     "text": [
      "\n",
      "Epoch:37,val,Loss:[1.119],prec[75.4583],domain_acc[69.6753]\n",
      "Epoch:38[200/469],Loss:[1.348,1.359],domain loss:[0.700,0.651],label loss:[0.009,0.045],prec[100.0000,98.6133],alpha:0.958026111125946\n",
      "Epoch:38[400/469],Loss:[1.480,1.368],domain loss:[0.653,0.666],label loss:[0.076,0.046],prec[97.6562,98.5723],alpha:0.9597431421279907\n"
     ]
    },
    {
     "data": {
      "application/vnd.jupyter.widget-view+json": {
       "model_id": "3d83cc126a33433588ca51f2cb69235c",
       "version_major": 2,
       "version_minor": 0
      },
      "text/plain": [
       "HBox(children=(FloatProgress(value=0.0, max=71.0), HTML(value='')))"
      ]
     },
     "metadata": {},
     "output_type": "display_data"
    },
    {
     "name": "stdout",
     "output_type": "stream",
     "text": [
      "\n",
      "Epoch:38,val,Loss:[1.032],prec[75.5694],domain_acc[69.7851]\n",
      "Epoch:39[200/469],Loss:[1.395,1.401],domain loss:[0.688,0.683],label loss:[0.086,0.050],prec[97.6562,98.5117],alpha:0.9619444608688354\n",
      "Epoch:39[400/469],Loss:[1.435,1.398],domain loss:[0.684,0.681],label loss:[0.091,0.050],prec[96.8750,98.4728],alpha:0.9635041356086731\n"
     ]
    },
    {
     "data": {
      "application/vnd.jupyter.widget-view+json": {
       "model_id": "23ad23b45db84fb6b12d6ee1f8b0ec02",
       "version_major": 2,
       "version_minor": 0
      },
      "text/plain": [
       "HBox(children=(FloatProgress(value=0.0, max=71.0), HTML(value='')))"
      ]
     },
     "metadata": {},
     "output_type": "display_data"
    },
    {
     "name": "stdout",
     "output_type": "stream",
     "text": [
      "\n",
      "Epoch:39,val,Loss:[1.097],prec[75.5249],domain_acc[69.7114]\n",
      "Epoch:40[200/469],Loss:[1.443,1.339],domain loss:[0.658,0.649],label loss:[0.103,0.057],prec[96.0938,98.2422],alpha:0.965503454208374\n",
      "Epoch:40[400/469],Loss:[1.379,1.353],domain loss:[0.656,0.662],label loss:[0.056,0.055],prec[97.6562,98.3165],alpha:0.9669197797775269\n"
     ]
    },
    {
     "data": {
      "application/vnd.jupyter.widget-view+json": {
       "model_id": "4a59a35f26024dec8717caeeebb27cce",
       "version_major": 2,
       "version_minor": 0
      },
      "text/plain": [
       "HBox(children=(FloatProgress(value=0.0, max=71.0), HTML(value='')))"
      ]
     },
     "metadata": {},
     "output_type": "display_data"
    },
    {
     "name": "stdout",
     "output_type": "stream",
     "text": [
      "\n",
      "Epoch:40,val,Loss:[0.865],prec[78.0802],domain_acc[69.5400]\n",
      "Epoch:41[200/469],Loss:[1.373,1.357],domain loss:[0.680,0.660],label loss:[0.088,0.045],prec[98.4375,98.5274],alpha:0.9687349200248718\n",
      "Epoch:41[400/469],Loss:[1.394,1.371],domain loss:[0.720,0.662],label loss:[0.057,0.049],prec[96.8750,98.4669],alpha:0.970020592212677\n"
     ]
    },
    {
     "data": {
      "application/vnd.jupyter.widget-view+json": {
       "model_id": "ce9f93deea264f6eb860b22473503444",
       "version_major": 2,
       "version_minor": 0
      },
      "text/plain": [
       "HBox(children=(FloatProgress(value=0.0, max=71.0), HTML(value='')))"
      ]
     },
     "metadata": {},
     "output_type": "display_data"
    },
    {
     "name": "stdout",
     "output_type": "stream",
     "text": [
      "\n",
      "Epoch:41,val,Loss:[1.078],prec[76.8026],domain_acc[69.6777]\n",
      "Epoch:42[200/469],Loss:[1.388,1.379],domain loss:[0.692,0.665],label loss:[0.031,0.044],prec[99.2188,98.5899],alpha:0.971668004989624\n",
      "Epoch:42[400/469],Loss:[1.337,1.374],domain loss:[0.611,0.664],label loss:[0.029,0.044],prec[98.4375,98.6700],alpha:0.9728347659111023\n"
     ]
    },
    {
     "data": {
      "application/vnd.jupyter.widget-view+json": {
       "model_id": "751fd951e1f740309902dd2decce7aed",
       "version_major": 2,
       "version_minor": 0
      },
      "text/plain": [
       "HBox(children=(FloatProgress(value=0.0, max=71.0), HTML(value='')))"
      ]
     },
     "metadata": {},
     "output_type": "display_data"
    },
    {
     "name": "stdout",
     "output_type": "stream",
     "text": [
      "\n",
      "Epoch:42,val,Loss:[0.972],prec[76.1915],domain_acc[69.5295]\n",
      "Epoch:43[200/469],Loss:[1.393,1.359],domain loss:[0.705,0.668],label loss:[0.048,0.047],prec[98.4375,98.5898],alpha:0.9743295311927795\n",
      "Epoch:43[400/469],Loss:[1.407,1.379],domain loss:[0.633,0.673],label loss:[0.065,0.050],prec[98.4375,98.4435],alpha:0.9753880500793457\n"
     ]
    },
    {
     "data": {
      "application/vnd.jupyter.widget-view+json": {
       "model_id": "2fa9a0752eb34fd1b6d2fe487ddac337",
       "version_major": 2,
       "version_minor": 0
      },
      "text/plain": [
       "HBox(children=(FloatProgress(value=0.0, max=71.0), HTML(value='')))"
      ]
     },
     "metadata": {},
     "output_type": "display_data"
    },
    {
     "name": "stdout",
     "output_type": "stream",
     "text": [
      "\n",
      "Epoch:43,val,Loss:[0.850],prec[77.3803],domain_acc[69.6466]\n",
      "Epoch:44[200/469],Loss:[1.440,1.383],domain loss:[0.661,0.670],label loss:[0.060,0.044],prec[96.8750,98.6211],alpha:0.9767439961433411\n",
      "Epoch:44[400/469],Loss:[1.424,1.380],domain loss:[0.641,0.667],label loss:[0.072,0.050],prec[98.4375,98.4454],alpha:0.9777040481567383\n"
     ]
    },
    {
     "data": {
      "application/vnd.jupyter.widget-view+json": {
       "model_id": "db0519c3db214db7909fcb61b18cd7dc",
       "version_major": 2,
       "version_minor": 0
      },
      "text/plain": [
       "HBox(children=(FloatProgress(value=0.0, max=71.0), HTML(value='')))"
      ]
     },
     "metadata": {},
     "output_type": "display_data"
    },
    {
     "name": "stdout",
     "output_type": "stream",
     "text": [
      "\n",
      "Epoch:44,val,Loss:[0.961],prec[74.6139],domain_acc[69.9088]\n",
      "Epoch:45[200/469],Loss:[1.290,1.385],domain loss:[0.677,0.680],label loss:[0.024,0.040],prec[100.0000,98.6875],alpha:0.9789338111877441\n",
      "Epoch:45[400/469],Loss:[1.395,1.394],domain loss:[0.682,0.672],label loss:[0.040,0.044],prec[99.2188,98.6173],alpha:0.9798043966293335\n"
     ]
    },
    {
     "data": {
      "application/vnd.jupyter.widget-view+json": {
       "model_id": "8efca1e67880409bad1047b1575a7d1f",
       "version_major": 2,
       "version_minor": 0
      },
      "text/plain": [
       "HBox(children=(FloatProgress(value=0.0, max=71.0), HTML(value='')))"
      ]
     },
     "metadata": {},
     "output_type": "display_data"
    },
    {
     "name": "stdout",
     "output_type": "stream",
     "text": [
      "\n",
      "Epoch:45,val,Loss:[1.007],prec[77.3692],domain_acc[70.1354]\n",
      "Epoch:46[200/469],Loss:[1.347,1.399],domain loss:[0.709,0.683],label loss:[0.020,0.035],prec[99.2188,98.9259],alpha:0.9809194207191467\n",
      "Epoch:46[400/469],Loss:[1.384,1.396],domain loss:[0.620,0.676],label loss:[0.005,0.038],prec[100.0000,98.8009],alpha:0.9817086458206177\n"
     ]
    },
    {
     "data": {
      "application/vnd.jupyter.widget-view+json": {
       "model_id": "743246d9cdd44a9baff7cd812bb5ba32",
       "version_major": 2,
       "version_minor": 0
      },
      "text/plain": [
       "HBox(children=(FloatProgress(value=0.0, max=71.0), HTML(value='')))"
      ]
     },
     "metadata": {},
     "output_type": "display_data"
    },
    {
     "name": "stdout",
     "output_type": "stream",
     "text": [
      "\n",
      "Epoch:46,val,Loss:[1.063],prec[75.3916],domain_acc[69.5994]\n",
      "Epoch:47[200/469],Loss:[1.356,1.400],domain loss:[0.640,0.686],label loss:[0.005,0.039],prec[100.0000,98.7422],alpha:0.9827194809913635\n",
      "Epoch:47[400/469],Loss:[1.326,1.395],domain loss:[0.675,0.682],label loss:[0.020,0.040],prec[99.2188,98.7462],alpha:0.9834349155426025\n"
     ]
    },
    {
     "data": {
      "application/vnd.jupyter.widget-view+json": {
       "model_id": "e698252b64f44318ab0c91383b290b85",
       "version_major": 2,
       "version_minor": 0
      },
      "text/plain": [
       "HBox(children=(FloatProgress(value=0.0, max=71.0), HTML(value='')))"
      ]
     },
     "metadata": {},
     "output_type": "display_data"
    },
    {
     "name": "stdout",
     "output_type": "stream",
     "text": [
      "\n",
      "Epoch:47,val,Loss:[1.183],prec[75.9471],domain_acc[69.7166]\n",
      "Epoch:48[200/469],Loss:[1.408,1.402],domain loss:[0.653,0.668],label loss:[0.072,0.037],prec[96.8750,98.8985],alpha:0.9843510389328003\n",
      "Epoch:48[400/469],Loss:[1.388,1.400],domain loss:[0.690,0.680],label loss:[0.028,0.038],prec[99.2188,98.8537],alpha:0.9849994778633118\n"
     ]
    },
    {
     "data": {
      "application/vnd.jupyter.widget-view+json": {
       "model_id": "8d75cff6e9b84dbeb1875f95d1b4b8b6",
       "version_major": 2,
       "version_minor": 0
      },
      "text/plain": [
       "HBox(children=(FloatProgress(value=0.0, max=71.0), HTML(value='')))"
      ]
     },
     "metadata": {},
     "output_type": "display_data"
    },
    {
     "name": "stdout",
     "output_type": "stream",
     "text": [
      "\n",
      "Epoch:48,val,Loss:[1.001],prec[74.5695],domain_acc[69.6422]\n",
      "Epoch:49[200/469],Loss:[1.408,1.399],domain loss:[0.704,0.683],label loss:[0.015,0.041],prec[100.0000,98.7031],alpha:0.9858297109603882\n",
      "Epoch:49[400/469],Loss:[1.462,1.399],domain loss:[0.521,0.680],label loss:[0.075,0.041],prec[98.4375,98.7384],alpha:0.9864172339439392\n"
     ]
    },
    {
     "data": {
      "application/vnd.jupyter.widget-view+json": {
       "model_id": "d9c37a7dc2ac4552b930e8bc01976b7b",
       "version_major": 2,
       "version_minor": 0
      },
      "text/plain": [
       "HBox(children=(FloatProgress(value=0.0, max=71.0), HTML(value='')))"
      ]
     },
     "metadata": {},
     "output_type": "display_data"
    },
    {
     "name": "stdout",
     "output_type": "stream",
     "text": [
      "\n",
      "Epoch:49,val,Loss:[0.931],prec[77.0581],domain_acc[68.3082]\n",
      "Epoch:50[200/469],Loss:[1.458,1.377],domain loss:[0.686,0.704],label loss:[0.077,0.034],prec[98.4375,98.9336],alpha:0.9871695041656494\n",
      "Epoch:50[400/469],Loss:[1.392,1.396],domain loss:[0.658,0.690],label loss:[0.033,0.035],prec[99.2188,98.8575],alpha:0.9877018928527832\n"
     ]
    },
    {
     "data": {
      "application/vnd.jupyter.widget-view+json": {
       "model_id": "75a5b26456be41cf8bfe887a15ef32fe",
       "version_major": 2,
       "version_minor": 0
      },
      "text/plain": [
       "HBox(children=(FloatProgress(value=0.0, max=71.0), HTML(value='')))"
      ]
     },
     "metadata": {},
     "output_type": "display_data"
    },
    {
     "name": "stdout",
     "output_type": "stream",
     "text": [
      "\n",
      "Epoch:50,val,Loss:[1.146],prec[75.4472],domain_acc[68.4752]\n",
      "Epoch:51[200/469],Loss:[1.377,1.402],domain loss:[0.651,0.685],label loss:[0.009,0.030],prec[100.0000,99.0196],alpha:0.988383412361145\n",
      "Epoch:51[400/469],Loss:[1.443,1.405],domain loss:[0.708,0.687],label loss:[0.087,0.033],prec[99.2188,98.9768],alpha:0.9888656735420227\n"
     ]
    },
    {
     "data": {
      "application/vnd.jupyter.widget-view+json": {
       "model_id": "717d755e43ee4691b572ba3681a76a28",
       "version_major": 2,
       "version_minor": 0
      },
      "text/plain": [
       "HBox(children=(FloatProgress(value=0.0, max=71.0), HTML(value='')))"
      ]
     },
     "metadata": {},
     "output_type": "display_data"
    },
    {
     "name": "stdout",
     "output_type": "stream",
     "text": [
      "\n",
      "Epoch:51,val,Loss:[1.015],prec[77.7914],domain_acc[68.4930]\n",
      "Epoch:52[200/469],Loss:[1.310,1.381],domain loss:[0.632,0.679],label loss:[0.002,0.041],prec[100.0000,98.7461],alpha:0.9894830584526062\n",
      "Epoch:52[400/469],Loss:[1.392,1.391],domain loss:[0.706,0.681],label loss:[0.038,0.038],prec[99.2188,98.8615],alpha:0.989919900894165\n"
     ]
    },
    {
     "data": {
      "application/vnd.jupyter.widget-view+json": {
       "model_id": "cf8a242d8f42413fb9837a375de203b1",
       "version_major": 2,
       "version_minor": 0
      },
      "text/plain": [
       "HBox(children=(FloatProgress(value=0.0, max=71.0), HTML(value='')))"
      ]
     },
     "metadata": {},
     "output_type": "display_data"
    },
    {
     "name": "stdout",
     "output_type": "stream",
     "text": [
      "\n",
      "Epoch:52,val,Loss:[0.988],prec[77.6691],domain_acc[68.6668]\n",
      "Epoch:53[200/469],Loss:[1.410,1.397],domain loss:[0.738,0.686],label loss:[0.030,0.025],prec[99.2188,99.2032],alpha:0.9904791116714478\n",
      "Epoch:53[400/469],Loss:[1.373,1.397],domain loss:[0.686,0.685],label loss:[0.019,0.031],prec[99.2188,99.0295],alpha:0.9908747673034668\n"
     ]
    },
    {
     "data": {
      "application/vnd.jupyter.widget-view+json": {
       "model_id": "28f937493dfb474dbef80ca2695ca7fa",
       "version_major": 2,
       "version_minor": 0
      },
      "text/plain": [
       "HBox(children=(FloatProgress(value=0.0, max=71.0), HTML(value='')))"
      ]
     },
     "metadata": {},
     "output_type": "display_data"
    },
    {
     "name": "stdout",
     "output_type": "stream",
     "text": [
      "\n",
      "Epoch:53,val,Loss:[1.069],prec[75.2805],domain_acc[68.4910]\n",
      "Epoch:54[200/469],Loss:[1.453,1.401],domain loss:[0.719,0.685],label loss:[0.064,0.035],prec[98.4375,98.8438],alpha:0.9913812279701233\n",
      "Epoch:54[400/469],Loss:[1.480,1.400],domain loss:[0.754,0.681],label loss:[0.097,0.040],prec[96.8750,98.7131],alpha:0.9917395710945129\n"
     ]
    },
    {
     "data": {
      "application/vnd.jupyter.widget-view+json": {
       "model_id": "e8f7c1654f1848b5a2bbf12590124665",
       "version_major": 2,
       "version_minor": 0
      },
      "text/plain": [
       "HBox(children=(FloatProgress(value=0.0, max=71.0), HTML(value='')))"
      ]
     },
     "metadata": {},
     "output_type": "display_data"
    },
    {
     "name": "stdout",
     "output_type": "stream",
     "text": [
      "\n",
      "Epoch:54,val,Loss:[1.096],prec[75.6583],domain_acc[68.5237]\n",
      "Epoch:55[200/469],Loss:[1.344,1.401],domain loss:[0.675,0.678],label loss:[0.019,0.035],prec[99.2188,98.9336],alpha:0.9921982288360596\n",
      "Epoch:55[400/469],Loss:[1.430,1.401],domain loss:[0.656,0.682],label loss:[0.046,0.035],prec[97.6562,98.9611],alpha:0.9925227165222168\n"
     ]
    },
    {
     "data": {
      "application/vnd.jupyter.widget-view+json": {
       "model_id": "eb2cf35e20cc4238a0e88be117d0474c",
       "version_major": 2,
       "version_minor": 0
      },
      "text/plain": [
       "HBox(children=(FloatProgress(value=0.0, max=71.0), HTML(value='')))"
      ]
     },
     "metadata": {},
     "output_type": "display_data"
    },
    {
     "name": "stdout",
     "output_type": "stream",
     "text": [
      "\n",
      "Epoch:55,val,Loss:[0.854],prec[78.0358],domain_acc[67.6546]\n",
      "Epoch:56[200/469],Loss:[1.389,1.368],domain loss:[0.619,0.678],label loss:[0.037,0.028],prec[98.4375,99.1484],alpha:0.9929380416870117\n",
      "Epoch:56[400/469],Loss:[1.428,1.387],domain loss:[0.670,0.681],label loss:[0.055,0.030],prec[97.6562,99.0392],alpha:0.9932318925857544\n"
     ]
    },
    {
     "data": {
      "application/vnd.jupyter.widget-view+json": {
       "model_id": "06f7461b92244f899858041d49468775",
       "version_major": 2,
       "version_minor": 0
      },
      "text/plain": [
       "HBox(children=(FloatProgress(value=0.0, max=71.0), HTML(value='')))"
      ]
     },
     "metadata": {},
     "output_type": "display_data"
    },
    {
     "name": "stdout",
     "output_type": "stream",
     "text": [
      "\n",
      "Epoch:56,val,Loss:[0.887],prec[76.8803],domain_acc[67.8876]\n",
      "Epoch:57[200/469],Loss:[1.395,1.386],domain loss:[0.659,0.680],label loss:[0.051,0.031],prec[97.6562,99.0156],alpha:0.9936079382896423\n",
      "Epoch:57[400/469],Loss:[1.306,1.392],domain loss:[0.588,0.675],label loss:[0.044,0.037],prec[97.6562,98.8556],alpha:0.9938739538192749\n"
     ]
    },
    {
     "data": {
      "application/vnd.jupyter.widget-view+json": {
       "model_id": "2fabcdae921c4590a13465262fbc7d04",
       "version_major": 2,
       "version_minor": 0
      },
      "text/plain": [
       "HBox(children=(FloatProgress(value=0.0, max=71.0), HTML(value='')))"
      ]
     },
     "metadata": {},
     "output_type": "display_data"
    },
    {
     "name": "stdout",
     "output_type": "stream",
     "text": [
      "\n",
      "Epoch:57,val,Loss:[0.955],prec[76.1138],domain_acc[67.2845]\n",
      "Epoch:58[200/469],Loss:[1.356,1.386],domain loss:[0.668,0.685],label loss:[0.017,0.037],prec[99.2188,98.8789],alpha:0.9942144751548767\n",
      "Epoch:58[400/469],Loss:[1.368,1.395],domain loss:[0.637,0.686],label loss:[0.007,0.042],prec[100.0000,98.7540],alpha:0.9944553375244141\n"
     ]
    },
    {
     "data": {
      "application/vnd.jupyter.widget-view+json": {
       "model_id": "185bfcf21a5d4caca7df9408a76da7d5",
       "version_major": 2,
       "version_minor": 0
      },
      "text/plain": [
       "HBox(children=(FloatProgress(value=0.0, max=71.0), HTML(value='')))"
      ]
     },
     "metadata": {},
     "output_type": "display_data"
    },
    {
     "name": "stdout",
     "output_type": "stream",
     "text": [
      "\n",
      "Epoch:58,val,Loss:[1.009],prec[76.2693],domain_acc[66.7252]\n",
      "Epoch:59[200/469],Loss:[1.336,1.382],domain loss:[0.621,0.679],label loss:[0.009,0.030],prec[100.0000,99.0860],alpha:0.9947636127471924\n",
      "Epoch:59[400/469],Loss:[1.442,1.386],domain loss:[0.716,0.682],label loss:[0.098,0.031],prec[96.0938,98.9963],alpha:0.9949816465377808\n"
     ]
    },
    {
     "data": {
      "application/vnd.jupyter.widget-view+json": {
       "model_id": "122df8c3d8f84f1bae68eb0afb9f0210",
       "version_major": 2,
       "version_minor": 0
      },
      "text/plain": [
       "HBox(children=(FloatProgress(value=0.0, max=71.0), HTML(value='')))"
      ]
     },
     "metadata": {},
     "output_type": "display_data"
    },
    {
     "name": "stdout",
     "output_type": "stream",
     "text": [
      "\n",
      "Epoch:59,val,Loss:[1.003],prec[77.1914],domain_acc[66.6594]\n",
      "Epoch:60[200/469],Loss:[1.270,1.497],domain loss:[0.593,0.691],label loss:[0.047,0.128],prec[98.4375,96.3789],alpha:0.9952607154846191\n",
      "Epoch:60[400/469],Loss:[1.309,1.406],domain loss:[0.609,0.666],label loss:[0.069,0.093],prec[99.2188,97.3869],alpha:0.9954581260681152\n"
     ]
    },
    {
     "data": {
      "application/vnd.jupyter.widget-view+json": {
       "model_id": "8a4b5e577f90464ca3c6fcf1dd438be2",
       "version_major": 2,
       "version_minor": 0
      },
      "text/plain": [
       "HBox(children=(FloatProgress(value=0.0, max=71.0), HTML(value='')))"
      ]
     },
     "metadata": {},
     "output_type": "display_data"
    },
    {
     "name": "stdout",
     "output_type": "stream",
     "text": [
      "\n",
      "Epoch:60,val,Loss:[1.226],prec[76.1249],domain_acc[65.8433]\n",
      "Epoch:61[200/469],Loss:[1.397,1.365],domain loss:[0.680,0.682],label loss:[0.019,0.040],prec[99.2188,98.8047],alpha:0.9957107305526733\n",
      "Epoch:61[400/469],Loss:[1.417,1.376],domain loss:[0.691,0.673],label loss:[0.046,0.040],prec[97.6562,98.7735],alpha:0.99588942527771\n"
     ]
    },
    {
     "data": {
      "application/vnd.jupyter.widget-view+json": {
       "model_id": "90699f1479a946b3914f214096922a76",
       "version_major": 2,
       "version_minor": 0
      },
      "text/plain": [
       "HBox(children=(FloatProgress(value=0.0, max=71.0), HTML(value='')))"
      ]
     },
     "metadata": {},
     "output_type": "display_data"
    },
    {
     "name": "stdout",
     "output_type": "stream",
     "text": [
      "\n",
      "Epoch:61,val,Loss:[0.785],prec[78.3135],domain_acc[65.3096]\n",
      "Epoch:62[200/469],Loss:[1.357,1.382],domain loss:[0.637,0.682],label loss:[0.008,0.037],prec[100.0000,98.9414],alpha:0.9961181282997131\n",
      "Epoch:62[400/469],Loss:[1.434,1.387],domain loss:[0.689,0.681],label loss:[0.047,0.036],prec[98.4375,98.8986],alpha:0.9962798953056335\n"
     ]
    },
    {
     "data": {
      "application/vnd.jupyter.widget-view+json": {
       "model_id": "a7131fbd67894a359681a4d610ff9c3a",
       "version_major": 2,
       "version_minor": 0
      },
      "text/plain": [
       "HBox(children=(FloatProgress(value=0.0, max=71.0), HTML(value='')))"
      ]
     },
     "metadata": {},
     "output_type": "display_data"
    },
    {
     "name": "stdout",
     "output_type": "stream",
     "text": [
      "\n",
      "Epoch:62,val,Loss:[0.867],prec[78.3135],domain_acc[65.4645]\n",
      "Epoch:63[200/469],Loss:[1.364,1.394],domain loss:[0.688,0.687],label loss:[0.007,0.026],prec[100.0000,99.1915],alpha:0.9964869022369385\n",
      "Epoch:63[400/469],Loss:[1.405,1.397],domain loss:[0.641,0.683],label loss:[0.006,0.028],prec[100.0000,99.1154],alpha:0.9966332912445068\n"
     ]
    },
    {
     "data": {
      "application/vnd.jupyter.widget-view+json": {
       "model_id": "8cb19c2831ca49e9a6e7dada323c9523",
       "version_major": 2,
       "version_minor": 0
      },
      "text/plain": [
       "HBox(children=(FloatProgress(value=0.0, max=71.0), HTML(value='')))"
      ]
     },
     "metadata": {},
     "output_type": "display_data"
    },
    {
     "name": "stdout",
     "output_type": "stream",
     "text": [
      "\n",
      "Epoch:63,val,Loss:[0.790],prec[79.5800],domain_acc[65.6970]\n",
      "Epoch:64[200/469],Loss:[1.436,1.387],domain loss:[0.702,0.676],label loss:[0.099,0.024],prec[98.4375,99.2696],alpha:0.9968206882476807\n",
      "Epoch:64[400/469],Loss:[1.397,1.393],domain loss:[0.609,0.684],label loss:[0.032,0.029],prec[99.2188,99.0939],alpha:0.9969531893730164\n"
     ]
    },
    {
     "data": {
      "application/vnd.jupyter.widget-view+json": {
       "model_id": "404f11e67dd24c6c802b594653ae5ea7",
       "version_major": 2,
       "version_minor": 0
      },
      "text/plain": [
       "HBox(children=(FloatProgress(value=0.0, max=71.0), HTML(value='')))"
      ]
     },
     "metadata": {},
     "output_type": "display_data"
    },
    {
     "name": "stdout",
     "output_type": "stream",
     "text": [
      "\n",
      "Epoch:64,val,Loss:[0.901],prec[78.1691],domain_acc[65.8332]\n",
      "Epoch:65[200/469],Loss:[1.374,1.396],domain loss:[0.671,0.680],label loss:[0.027,0.036],prec[98.4375,98.8477],alpha:0.9971228241920471\n",
      "Epoch:65[400/469],Loss:[1.376,1.396],domain loss:[0.672,0.688],label loss:[0.026,0.029],prec[99.2188,99.0724],alpha:0.9972427487373352\n"
     ]
    },
    {
     "data": {
      "application/vnd.jupyter.widget-view+json": {
       "model_id": "1d9a6da8694f47ddbf9fe95770c32737",
       "version_major": 2,
       "version_minor": 0
      },
      "text/plain": [
       "HBox(children=(FloatProgress(value=0.0, max=71.0), HTML(value='')))"
      ]
     },
     "metadata": {},
     "output_type": "display_data"
    },
    {
     "name": "stdout",
     "output_type": "stream",
     "text": [
      "\n",
      "Epoch:65,val,Loss:[0.950],prec[77.6025],domain_acc[66.1125]\n",
      "Epoch:66[200/469],Loss:[1.402,1.388],domain loss:[0.632,0.676],label loss:[0.050,0.025],prec[98.4375,99.1719],alpha:0.9973962306976318\n",
      "Epoch:66[400/469],Loss:[1.427,1.393],domain loss:[0.701,0.683],label loss:[0.031,0.028],prec[99.2188,99.0822],alpha:0.9975048303604126\n"
     ]
    },
    {
     "data": {
      "application/vnd.jupyter.widget-view+json": {
       "model_id": "d48c52a1f896423a927cc77bf3b4ef99",
       "version_major": 2,
       "version_minor": 0
      },
      "text/plain": [
       "HBox(children=(FloatProgress(value=0.0, max=71.0), HTML(value='')))"
      ]
     },
     "metadata": {},
     "output_type": "display_data"
    },
    {
     "name": "stdout",
     "output_type": "stream",
     "text": [
      "\n",
      "Epoch:66,val,Loss:[0.899],prec[78.4468],domain_acc[66.2366]\n",
      "Epoch:67[200/469],Loss:[1.457,1.396],domain loss:[0.718,0.691],label loss:[0.081,0.026],prec[99.2188,99.1328],alpha:0.9976437091827393\n",
      "Epoch:67[400/469],Loss:[1.398,1.399],domain loss:[0.689,0.687],label loss:[0.013,0.025],prec[99.2188,99.1818],alpha:0.9977419972419739\n"
     ]
    },
    {
     "data": {
      "application/vnd.jupyter.widget-view+json": {
       "model_id": "cba6daac69bb4193a21f009726d2b848",
       "version_major": 2,
       "version_minor": 0
      },
      "text/plain": [
       "HBox(children=(FloatProgress(value=0.0, max=71.0), HTML(value='')))"
      ]
     },
     "metadata": {},
     "output_type": "display_data"
    },
    {
     "name": "stdout",
     "output_type": "stream",
     "text": [
      "\n",
      "Epoch:67,val,Loss:[0.867],prec[79.5578],domain_acc[65.6435]\n",
      "Epoch:68[200/469],Loss:[1.405,1.388],domain loss:[0.697,0.687],label loss:[0.055,0.024],prec[98.4375,99.2266],alpha:0.9978677034378052\n",
      "Epoch:68[400/469],Loss:[1.365,1.386],domain loss:[0.635,0.686],label loss:[0.035,0.025],prec[99.2188,99.1682],alpha:0.9979566335678101\n"
     ]
    },
    {
     "data": {
      "application/vnd.jupyter.widget-view+json": {
       "model_id": "45face23047d4da69e78621fdd7bac60",
       "version_major": 2,
       "version_minor": 0
      },
      "text/plain": [
       "HBox(children=(FloatProgress(value=0.0, max=71.0), HTML(value='')))"
      ]
     },
     "metadata": {},
     "output_type": "display_data"
    },
    {
     "name": "stdout",
     "output_type": "stream",
     "text": [
      "\n",
      "Epoch:68,val,Loss:[0.813],prec[79.6911],domain_acc[65.3914]\n",
      "Epoch:69[200/469],Loss:[1.357,1.388],domain loss:[0.700,0.685],label loss:[0.019,0.028],prec[99.2188,99.1445],alpha:0.9980704188346863\n",
      "Epoch:69[400/469],Loss:[1.396,1.390],domain loss:[0.639,0.686],label loss:[0.027,0.028],prec[99.2188,99.1329],alpha:0.9981509447097778\n"
     ]
    },
    {
     "data": {
      "application/vnd.jupyter.widget-view+json": {
       "model_id": "b94700945ef94b2ba48ef44919257175",
       "version_major": 2,
       "version_minor": 0
      },
      "text/plain": [
       "HBox(children=(FloatProgress(value=0.0, max=71.0), HTML(value='')))"
      ]
     },
     "metadata": {},
     "output_type": "display_data"
    },
    {
     "name": "stdout",
     "output_type": "stream",
     "text": [
      "\n",
      "Epoch:69,val,Loss:[0.873],prec[78.9579],domain_acc[65.4430]\n",
      "Epoch:70[200/469],Loss:[1.300,1.391],domain loss:[0.680,0.679],label loss:[0.012,0.032],prec[100.0000,99.0469],alpha:0.9982538819313049\n",
      "Epoch:70[400/469],Loss:[1.335,1.384],domain loss:[0.706,0.676],label loss:[0.007,0.036],prec[100.0000,98.9396],alpha:0.9983267188072205\n"
     ]
    },
    {
     "data": {
      "application/vnd.jupyter.widget-view+json": {
       "model_id": "5f1967e32d874edf89164ff89defa039",
       "version_major": 2,
       "version_minor": 0
      },
      "text/plain": [
       "HBox(children=(FloatProgress(value=0.0, max=71.0), HTML(value='')))"
      ]
     },
     "metadata": {},
     "output_type": "display_data"
    },
    {
     "name": "stdout",
     "output_type": "stream",
     "text": [
      "\n",
      "Epoch:70,val,Loss:[0.893],prec[78.1802],domain_acc[65.6498]\n",
      "Epoch:71[200/469],Loss:[1.329,1.361],domain loss:[0.673,0.663],label loss:[0.051,0.040],prec[99.2188,98.7930],alpha:0.9984199404716492\n",
      "Epoch:71[400/469],Loss:[1.400,1.362],domain loss:[0.656,0.666],label loss:[0.042,0.039],prec[98.4375,98.8165],alpha:0.9984858632087708\n"
     ]
    },
    {
     "data": {
      "application/vnd.jupyter.widget-view+json": {
       "model_id": "13062029e85648b6b156266527c82d02",
       "version_major": 2,
       "version_minor": 0
      },
      "text/plain": [
       "HBox(children=(FloatProgress(value=0.0, max=71.0), HTML(value='')))"
      ]
     },
     "metadata": {},
     "output_type": "display_data"
    },
    {
     "name": "stdout",
     "output_type": "stream",
     "text": [
      "\n",
      "Epoch:71,val,Loss:[0.854],prec[79.0023],domain_acc[65.8379]\n",
      "Epoch:72[200/469],Loss:[1.333,1.375],domain loss:[0.730,0.678],label loss:[0.006,0.037],prec[100.0000,98.9063],alpha:0.9985702037811279\n",
      "Epoch:72[400/469],Loss:[1.376,1.378],domain loss:[0.673,0.674],label loss:[0.009,0.040],prec[100.0000,98.8087],alpha:0.9986298084259033\n"
     ]
    },
    {
     "data": {
      "application/vnd.jupyter.widget-view+json": {
       "model_id": "956ce65bfd934c30b88b5f51f90f8f27",
       "version_major": 2,
       "version_minor": 0
      },
      "text/plain": [
       "HBox(children=(FloatProgress(value=0.0, max=71.0), HTML(value='')))"
      ]
     },
     "metadata": {},
     "output_type": "display_data"
    },
    {
     "name": "stdout",
     "output_type": "stream",
     "text": [
      "\n",
      "Epoch:72,val,Loss:[0.760],prec[80.7021],domain_acc[65.6793]\n",
      "Epoch:73[200/469],Loss:[1.437,1.385],domain loss:[0.700,0.681],label loss:[0.075,0.035],prec[97.6562,98.9024],alpha:0.9987061619758606\n",
      "Epoch:73[400/469],Loss:[1.447,1.381],domain loss:[0.768,0.674],label loss:[0.043,0.041],prec[99.2188,98.7443],alpha:0.9987601637840271\n"
     ]
    },
    {
     "data": {
      "application/vnd.jupyter.widget-view+json": {
       "model_id": "946d1105c35845acad9f9afe85e9a93c",
       "version_major": 2,
       "version_minor": 0
      },
      "text/plain": [
       "HBox(children=(FloatProgress(value=0.0, max=71.0), HTML(value='')))"
      ]
     },
     "metadata": {},
     "output_type": "display_data"
    },
    {
     "name": "stdout",
     "output_type": "stream",
     "text": [
      "\n",
      "Epoch:73,val,Loss:[1.020],prec[76.4248],domain_acc[65.5121]\n",
      "Epoch:74[200/469],Loss:[1.376,1.382],domain loss:[0.783,0.686],label loss:[0.005,0.036],prec[100.0000,98.8008],alpha:0.9988292455673218\n",
      "Epoch:74[400/469],Loss:[1.359,1.377],domain loss:[0.609,0.676],label loss:[0.080,0.038],prec[98.4375,98.8127],alpha:0.9988780617713928\n"
     ]
    },
    {
     "data": {
      "application/vnd.jupyter.widget-view+json": {
       "model_id": "d0a916d8694245b3a005733a4e4d5fc7",
       "version_major": 2,
       "version_minor": 0
      },
      "text/plain": [
       "HBox(children=(FloatProgress(value=0.0, max=71.0), HTML(value='')))"
      ]
     },
     "metadata": {},
     "output_type": "display_data"
    },
    {
     "name": "stdout",
     "output_type": "stream",
     "text": [
      "\n",
      "Epoch:74,val,Loss:[0.997],prec[76.9803],domain_acc[65.4960]\n",
      "Epoch:75[200/469],Loss:[1.444,1.358],domain loss:[0.660,0.675],label loss:[0.033,0.034],prec[98.4375,98.9571],alpha:0.9989405870437622\n",
      "Epoch:75[400/469],Loss:[1.429,1.362],domain loss:[0.699,0.666],label loss:[0.063,0.032],prec[98.4375,99.0275],alpha:0.9989847540855408\n"
     ]
    },
    {
     "data": {
      "application/vnd.jupyter.widget-view+json": {
       "model_id": "45051f203db4447ba68d11951aed4e6b",
       "version_major": 2,
       "version_minor": 0
      },
      "text/plain": [
       "HBox(children=(FloatProgress(value=0.0, max=71.0), HTML(value='')))"
      ]
     },
     "metadata": {},
     "output_type": "display_data"
    },
    {
     "name": "stdout",
     "output_type": "stream",
     "text": [
      "\n",
      "Epoch:75,val,Loss:[0.864],prec[79.2467],domain_acc[65.3131]\n",
      "Epoch:76[200/469],Loss:[1.359,1.377],domain loss:[0.662,0.679],label loss:[0.022,0.034],prec[99.2188,98.9375],alpha:0.9990413188934326\n",
      "Epoch:76[400/469],Loss:[1.353,1.385],domain loss:[0.653,0.682],label loss:[0.010,0.037],prec[99.2188,98.8810],alpha:0.9990813732147217\n"
     ]
    },
    {
     "data": {
      "application/vnd.jupyter.widget-view+json": {
       "model_id": "44c8d9a3a6a14d56a2caf74a96c4b48a",
       "version_major": 2,
       "version_minor": 0
      },
      "text/plain": [
       "HBox(children=(FloatProgress(value=0.0, max=71.0), HTML(value='')))"
      ]
     },
     "metadata": {},
     "output_type": "display_data"
    },
    {
     "name": "stdout",
     "output_type": "stream",
     "text": [
      "\n",
      "Epoch:76,val,Loss:[1.154],prec[75.8027],domain_acc[65.4373]\n",
      "Epoch:77[200/469],Loss:[1.382,1.377],domain loss:[0.690,0.679],label loss:[0.040,0.032],prec[99.2188,98.9570],alpha:0.999132513999939\n",
      "Epoch:77[400/469],Loss:[1.426,1.386],domain loss:[0.677,0.684],label loss:[0.049,0.033],prec[98.4375,98.9728],alpha:0.9991687536239624\n"
     ]
    },
    {
     "data": {
      "application/vnd.jupyter.widget-view+json": {
       "model_id": "15564fbab8c54a97a97462b184e84870",
       "version_major": 2,
       "version_minor": 0
      },
      "text/plain": [
       "HBox(children=(FloatProgress(value=0.0, max=71.0), HTML(value='')))"
      ]
     },
     "metadata": {},
     "output_type": "display_data"
    },
    {
     "name": "stdout",
     "output_type": "stream",
     "text": [
      "\n",
      "Epoch:77,val,Loss:[0.947],prec[78.2580],domain_acc[65.4437]\n",
      "Epoch:78[200/469],Loss:[1.463,1.382],domain loss:[0.666,0.675],label loss:[0.069,0.033],prec[96.8750,99.0469],alpha:0.9992150664329529\n",
      "Epoch:78[400/469],Loss:[1.367,1.382],domain loss:[0.702,0.677],label loss:[0.002,0.031],prec[100.0000,99.0432],alpha:0.9992477893829346\n"
     ]
    },
    {
     "data": {
      "application/vnd.jupyter.widget-view+json": {
       "model_id": "446fa989b5fa4d16848063f5f05a6aff",
       "version_major": 2,
       "version_minor": 0
      },
      "text/plain": [
       "HBox(children=(FloatProgress(value=0.0, max=71.0), HTML(value='')))"
      ]
     },
     "metadata": {},
     "output_type": "display_data"
    },
    {
     "name": "stdout",
     "output_type": "stream",
     "text": [
      "\n",
      "Epoch:78,val,Loss:[1.023],prec[77.1137],domain_acc[65.3608]\n",
      "Epoch:79[200/469],Loss:[1.536,1.374],domain loss:[0.686,0.667],label loss:[0.162,0.035],prec[97.6562,98.9766],alpha:0.9992896914482117\n",
      "Epoch:79[400/469],Loss:[1.404,1.374],domain loss:[0.604,0.674],label loss:[0.054,0.034],prec[98.4375,98.9474],alpha:0.9993193745613098\n"
     ]
    },
    {
     "data": {
      "application/vnd.jupyter.widget-view+json": {
       "model_id": "32047388425d44d7a7977af5d469b9a1",
       "version_major": 2,
       "version_minor": 0
      },
      "text/plain": [
       "HBox(children=(FloatProgress(value=0.0, max=71.0), HTML(value='')))"
      ]
     },
     "metadata": {},
     "output_type": "display_data"
    },
    {
     "name": "stdout",
     "output_type": "stream",
     "text": [
      "\n",
      "Epoch:79,val,Loss:[0.971],prec[77.9580],domain_acc[65.3259]\n",
      "Epoch:80[200/469],Loss:[1.495,1.364],domain loss:[0.709,0.660],label loss:[0.039,0.032],prec[99.2188,99.0274],alpha:0.999357283115387\n",
      "Epoch:80[400/469],Loss:[1.362,1.371],domain loss:[0.709,0.667],label loss:[0.004,0.036],prec[100.0000,98.8966],alpha:0.9993841052055359\n"
     ]
    },
    {
     "data": {
      "application/vnd.jupyter.widget-view+json": {
       "model_id": "653e04cf24bc4b39b9c789b485ef8b1e",
       "version_major": 2,
       "version_minor": 0
      },
      "text/plain": [
       "HBox(children=(FloatProgress(value=0.0, max=71.0), HTML(value='')))"
      ]
     },
     "metadata": {},
     "output_type": "display_data"
    },
    {
     "name": "stdout",
     "output_type": "stream",
     "text": [
      "\n",
      "Epoch:80,val,Loss:[0.902],prec[78.4357],domain_acc[65.2594]\n",
      "Epoch:81[200/469],Loss:[1.364,1.356],domain loss:[0.604,0.656],label loss:[0.039,0.040],prec[98.4375,98.7539],alpha:0.9994184374809265\n",
      "Epoch:81[400/469],Loss:[1.325,1.351],domain loss:[0.713,0.659],label loss:[0.009,0.036],prec[100.0000,98.8459],alpha:0.9994426965713501\n"
     ]
    },
    {
     "data": {
      "application/vnd.jupyter.widget-view+json": {
       "model_id": "37cfbfbc29384a45b1868b3aed0216e8",
       "version_major": 2,
       "version_minor": 0
      },
      "text/plain": [
       "HBox(children=(FloatProgress(value=0.0, max=71.0), HTML(value='')))"
      ]
     },
     "metadata": {},
     "output_type": "display_data"
    },
    {
     "name": "stdout",
     "output_type": "stream",
     "text": [
      "\n",
      "Epoch:81,val,Loss:[0.820],prec[79.7023],domain_acc[65.2285]\n",
      "Epoch:82[200/469],Loss:[1.362,1.366],domain loss:[0.671,0.674],label loss:[0.043,0.037],prec[98.4375,98.8555],alpha:0.9994737505912781\n",
      "Epoch:82[400/469],Loss:[1.322,1.373],domain loss:[0.675,0.672],label loss:[0.035,0.040],prec[99.2188,98.7677],alpha:0.9994957447052002\n"
     ]
    },
    {
     "data": {
      "application/vnd.jupyter.widget-view+json": {
       "model_id": "764882d0b8ea44c0969ced0a8ef8af0d",
       "version_major": 2,
       "version_minor": 0
      },
      "text/plain": [
       "HBox(children=(FloatProgress(value=0.0, max=71.0), HTML(value='')))"
      ]
     },
     "metadata": {},
     "output_type": "display_data"
    },
    {
     "name": "stdout",
     "output_type": "stream",
     "text": [
      "\n",
      "Epoch:82,val,Loss:[0.930],prec[78.3580],domain_acc[65.1620]\n",
      "Epoch:83[200/469],Loss:[1.405,1.348],domain loss:[0.659,0.657],label loss:[0.045,0.038],prec[97.6562,98.8945],alpha:0.9995238184928894\n",
      "Epoch:83[400/469],Loss:[1.356,1.364],domain loss:[0.645,0.670],label loss:[0.008,0.041],prec[100.0000,98.7911],alpha:0.9995437264442444\n"
     ]
    },
    {
     "data": {
      "application/vnd.jupyter.widget-view+json": {
       "model_id": "b90d988b990a45b792b413121bc23893",
       "version_major": 2,
       "version_minor": 0
      },
      "text/plain": [
       "HBox(children=(FloatProgress(value=0.0, max=71.0), HTML(value='')))"
      ]
     },
     "metadata": {},
     "output_type": "display_data"
    },
    {
     "name": "stdout",
     "output_type": "stream",
     "text": [
      "\n",
      "Epoch:83,val,Loss:[0.979],prec[77.4247],domain_acc[65.1898]\n",
      "Epoch:84[200/469],Loss:[1.335,1.372],domain loss:[0.679,0.669],label loss:[0.036,0.038],prec[99.2188,98.7734],alpha:0.9995691180229187\n",
      "Epoch:84[400/469],Loss:[1.263,1.377],domain loss:[0.619,0.669],label loss:[0.006,0.048],prec[100.0000,98.5899],alpha:0.9995871186256409\n"
     ]
    },
    {
     "data": {
      "application/vnd.jupyter.widget-view+json": {
       "model_id": "d8417f67f6d74c1690e30e589a0f28ed",
       "version_major": 2,
       "version_minor": 0
      },
      "text/plain": [
       "HBox(children=(FloatProgress(value=0.0, max=71.0), HTML(value='')))"
      ]
     },
     "metadata": {},
     "output_type": "display_data"
    },
    {
     "name": "stdout",
     "output_type": "stream",
     "text": [
      "\n",
      "Epoch:84,val,Loss:[0.691],prec[81.2243],domain_acc[65.2196]\n",
      "Epoch:85[200/469],Loss:[1.285,1.403],domain loss:[0.634,0.684],label loss:[0.014,0.048],prec[100.0000,98.6211],alpha:0.9996101260185242\n",
      "Epoch:85[400/469],Loss:[1.361,1.395],domain loss:[0.666,0.676],label loss:[0.042,0.051],prec[99.2188,98.5098],alpha:0.9996263980865479\n"
     ]
    },
    {
     "data": {
      "application/vnd.jupyter.widget-view+json": {
       "model_id": "0d097072bbe04a66bd493c78c7a42388",
       "version_major": 2,
       "version_minor": 0
      },
      "text/plain": [
       "HBox(children=(FloatProgress(value=0.0, max=71.0), HTML(value='')))"
      ]
     },
     "metadata": {},
     "output_type": "display_data"
    },
    {
     "name": "stdout",
     "output_type": "stream",
     "text": [
      "\n",
      "Epoch:85,val,Loss:[0.906],prec[77.6136],domain_acc[65.2616]\n",
      "Epoch:86[200/469],Loss:[1.423,1.373],domain loss:[0.752,0.662],label loss:[0.048,0.034],prec[98.4375,98.9531],alpha:0.9996472001075745\n",
      "Epoch:86[400/469],Loss:[1.276,1.374],domain loss:[0.674,0.667],label loss:[0.008,0.038],prec[100.0000,98.8243],alpha:0.999661922454834\n"
     ]
    },
    {
     "data": {
      "application/vnd.jupyter.widget-view+json": {
       "model_id": "62617f89be7c407082e4d942b630ff81",
       "version_major": 2,
       "version_minor": 0
      },
      "text/plain": [
       "HBox(children=(FloatProgress(value=0.0, max=71.0), HTML(value='')))"
      ]
     },
     "metadata": {},
     "output_type": "display_data"
    },
    {
     "name": "stdout",
     "output_type": "stream",
     "text": [
      "\n",
      "Epoch:86,val,Loss:[0.973],prec[78.2135],domain_acc[65.2598]\n",
      "Epoch:87[200/469],Loss:[1.466,1.367],domain loss:[0.668,0.681],label loss:[0.060,0.030],prec[98.4375,99.1094],alpha:0.9996808171272278\n",
      "Epoch:87[400/469],Loss:[1.342,1.375],domain loss:[0.646,0.678],label loss:[0.023,0.032],prec[99.2188,99.0392],alpha:0.9996941089630127\n"
     ]
    },
    {
     "data": {
      "application/vnd.jupyter.widget-view+json": {
       "model_id": "70133f986c8c47bea735811fa2073cd5",
       "version_major": 2,
       "version_minor": 0
      },
      "text/plain": [
       "HBox(children=(FloatProgress(value=0.0, max=71.0), HTML(value='')))"
      ]
     },
     "metadata": {},
     "output_type": "display_data"
    },
    {
     "name": "stdout",
     "output_type": "stream",
     "text": [
      "\n",
      "Epoch:87,val,Loss:[0.862],prec[79.2467],domain_acc[65.5208]\n",
      "Epoch:88[200/469],Loss:[1.309,1.361],domain loss:[0.670,0.666],label loss:[0.002,0.029],prec[100.0000,99.0899],alpha:0.9997111558914185\n",
      "Epoch:88[400/469],Loss:[1.382,1.365],domain loss:[0.699,0.670],label loss:[0.050,0.033],prec[99.2188,98.9571],alpha:0.9997231960296631\n"
     ]
    },
    {
     "data": {
      "application/vnd.jupyter.widget-view+json": {
       "model_id": "ad58ad4b8a3943ab9be436bd31dc9af2",
       "version_major": 2,
       "version_minor": 0
      },
      "text/plain": [
       "HBox(children=(FloatProgress(value=0.0, max=71.0), HTML(value='')))"
      ]
     },
     "metadata": {},
     "output_type": "display_data"
    },
    {
     "name": "stdout",
     "output_type": "stream",
     "text": [
      "\n",
      "Epoch:88,val,Loss:[0.873],prec[79.3134],domain_acc[65.5149]\n",
      "Epoch:89[200/469],Loss:[1.396,1.363],domain loss:[0.728,0.671],label loss:[0.025,0.033],prec[99.2188,98.9649],alpha:0.9997386336326599\n",
      "Epoch:89[400/469],Loss:[1.380,1.367],domain loss:[0.740,0.669],label loss:[0.033,0.035],prec[98.4375,98.9025],alpha:0.9997495412826538\n"
     ]
    },
    {
     "data": {
      "application/vnd.jupyter.widget-view+json": {
       "model_id": "8b8dcc6f40094ede824a792d446811fd",
       "version_major": 2,
       "version_minor": 0
      },
      "text/plain": [
       "HBox(children=(FloatProgress(value=0.0, max=71.0), HTML(value='')))"
      ]
     },
     "metadata": {},
     "output_type": "display_data"
    },
    {
     "name": "stdout",
     "output_type": "stream",
     "text": [
      "\n",
      "Epoch:89,val,Loss:[0.965],prec[77.7691],domain_acc[65.4788]\n",
      "Epoch:90[200/469],Loss:[1.369,1.447],domain loss:[0.689,0.692],label loss:[0.042,0.091],prec[98.4375,97.8516],alpha:0.9997634887695312\n",
      "Epoch:90[400/469],Loss:[1.484,1.404],domain loss:[0.628,0.680],label loss:[0.123,0.069],prec[96.8750,98.2248],alpha:0.999773383140564\n"
     ]
    },
    {
     "data": {
      "application/vnd.jupyter.widget-view+json": {
       "model_id": "3f8a36d7fe1a40be83e0f0491d267b3e",
       "version_major": 2,
       "version_minor": 0
      },
      "text/plain": [
       "HBox(children=(FloatProgress(value=0.0, max=71.0), HTML(value='')))"
      ]
     },
     "metadata": {},
     "output_type": "display_data"
    },
    {
     "name": "stdout",
     "output_type": "stream",
     "text": [
      "\n",
      "Epoch:90,val,Loss:[0.894],prec[78.2913],domain_acc[65.5167]\n",
      "Epoch:91[200/469],Loss:[1.318,1.337],domain loss:[0.655,0.655],label loss:[0.080,0.043],prec[98.4375,98.7071],alpha:0.9997860193252563\n",
      "Epoch:91[400/469],Loss:[1.217,1.349],domain loss:[0.517,0.654],label loss:[0.026,0.056],prec[99.2188,98.4826],alpha:0.9997949600219727\n"
     ]
    },
    {
     "data": {
      "application/vnd.jupyter.widget-view+json": {
       "model_id": "12bb71af000a4449bb7beec21ffde87a",
       "version_major": 2,
       "version_minor": 0
      },
      "text/plain": [
       "HBox(children=(FloatProgress(value=0.0, max=71.0), HTML(value='')))"
      ]
     },
     "metadata": {},
     "output_type": "display_data"
    },
    {
     "name": "stdout",
     "output_type": "stream",
     "text": [
      "\n",
      "Epoch:91,val,Loss:[1.070],prec[76.6359],domain_acc[65.2487]\n",
      "Epoch:92[200/469],Loss:[1.336,1.331],domain loss:[0.750,0.685],label loss:[0.038,0.035],prec[99.2188,98.8243],alpha:0.9998064041137695\n",
      "Epoch:92[400/469],Loss:[1.452,1.349],domain loss:[0.637,0.669],label loss:[0.054,0.038],prec[99.2188,98.8205],alpha:0.9998144507408142\n"
     ]
    },
    {
     "data": {
      "application/vnd.jupyter.widget-view+json": {
       "model_id": "cc9a7e9f37b34e9594d342d767e057cb",
       "version_major": 2,
       "version_minor": 0
      },
      "text/plain": [
       "HBox(children=(FloatProgress(value=0.0, max=71.0), HTML(value='')))"
      ]
     },
     "metadata": {},
     "output_type": "display_data"
    },
    {
     "name": "stdout",
     "output_type": "stream",
     "text": [
      "\n",
      "Epoch:92,val,Loss:[0.914],prec[78.7024],domain_acc[65.2878]\n",
      "Epoch:93[200/469],Loss:[1.397,1.375],domain loss:[0.672,0.673],label loss:[0.033,0.032],prec[99.2188,98.9805],alpha:0.9998248219490051\n",
      "Epoch:93[400/469],Loss:[1.362,1.374],domain loss:[0.587,0.669],label loss:[0.017,0.032],prec[99.2188,99.0197],alpha:0.9998320937156677\n"
     ]
    },
    {
     "data": {
      "application/vnd.jupyter.widget-view+json": {
       "model_id": "f21a033fd9754e90933c772be66522fe",
       "version_major": 2,
       "version_minor": 0
      },
      "text/plain": [
       "HBox(children=(FloatProgress(value=0.0, max=71.0), HTML(value='')))"
      ]
     },
     "metadata": {},
     "output_type": "display_data"
    },
    {
     "name": "stdout",
     "output_type": "stream",
     "text": [
      "\n",
      "Epoch:93,val,Loss:[0.766],prec[81.4798],domain_acc[65.0748]\n",
      "Epoch:94[200/469],Loss:[1.348,1.386],domain loss:[0.710,0.697],label loss:[0.028,0.024],prec[98.4375,99.2578],alpha:0.9998414516448975\n",
      "Epoch:94[400/469],Loss:[1.477,1.380],domain loss:[0.746,0.682],label loss:[0.016,0.029],prec[99.2188,99.0763],alpha:0.9998480677604675\n"
     ]
    },
    {
     "data": {
      "application/vnd.jupyter.widget-view+json": {
       "model_id": "c19172b9819540c9b8efa78690237a08",
       "version_major": 2,
       "version_minor": 0
      },
      "text/plain": [
       "HBox(children=(FloatProgress(value=0.0, max=71.0), HTML(value='')))"
      ]
     },
     "metadata": {},
     "output_type": "display_data"
    },
    {
     "name": "stdout",
     "output_type": "stream",
     "text": [
      "\n",
      "Epoch:94,val,Loss:[0.768],prec[81.1021],domain_acc[65.1909]\n",
      "Epoch:95[200/469],Loss:[1.321,1.361],domain loss:[0.658,0.672],label loss:[0.009,0.027],prec[100.0000,99.1211],alpha:0.9998565316200256\n",
      "Epoch:95[400/469],Loss:[1.347,1.373],domain loss:[0.745,0.678],label loss:[0.021,0.033],prec[99.2188,98.9611],alpha:0.999862551689148\n"
     ]
    },
    {
     "data": {
      "application/vnd.jupyter.widget-view+json": {
       "model_id": "bcfdd02f29cd484bab08bc47a8681bee",
       "version_major": 2,
       "version_minor": 0
      },
      "text/plain": [
       "HBox(children=(FloatProgress(value=0.0, max=71.0), HTML(value='')))"
      ]
     },
     "metadata": {},
     "output_type": "display_data"
    },
    {
     "name": "stdout",
     "output_type": "stream",
     "text": [
      "\n",
      "Epoch:95,val,Loss:[0.907],prec[78.7357],domain_acc[65.2230]\n",
      "Epoch:96[200/469],Loss:[1.330,1.350],domain loss:[0.639,0.667],label loss:[0.084,0.035],prec[99.2188,98.9063],alpha:0.9998701810836792\n",
      "Epoch:96[400/469],Loss:[1.307,1.358],domain loss:[0.583,0.666],label loss:[0.010,0.038],prec[99.2188,98.8381],alpha:0.9998756051063538\n"
     ]
    },
    {
     "data": {
      "application/vnd.jupyter.widget-view+json": {
       "model_id": "9956822ea2304751bc4d50c8da44a1e9",
       "version_major": 2,
       "version_minor": 0
      },
      "text/plain": [
       "HBox(children=(FloatProgress(value=0.0, max=71.0), HTML(value='')))"
      ]
     },
     "metadata": {},
     "output_type": "display_data"
    },
    {
     "name": "stdout",
     "output_type": "stream",
     "text": [
      "\n",
      "Epoch:96,val,Loss:[0.920],prec[78.0469],domain_acc[65.1908]\n",
      "Epoch:97[200/469],Loss:[1.431,1.390],domain loss:[0.698,0.675],label loss:[0.130,0.059],prec[97.6562,98.2735],alpha:0.9998825788497925\n",
      "Epoch:97[400/469],Loss:[1.409,1.375],domain loss:[0.713,0.675],label loss:[0.012,0.052],prec[99.2188,98.4317],alpha:0.9998874664306641\n"
     ]
    },
    {
     "data": {
      "application/vnd.jupyter.widget-view+json": {
       "model_id": "0f54c00c369a4b168c3072062709cf0a",
       "version_major": 2,
       "version_minor": 0
      },
      "text/plain": [
       "HBox(children=(FloatProgress(value=0.0, max=71.0), HTML(value='')))"
      ]
     },
     "metadata": {},
     "output_type": "display_data"
    },
    {
     "name": "stdout",
     "output_type": "stream",
     "text": [
      "\n",
      "Epoch:97,val,Loss:[0.678],prec[81.9020],domain_acc[65.1945]\n",
      "Epoch:98[200/469],Loss:[1.335,1.341],domain loss:[0.721,0.676],label loss:[0.021,0.044],prec[99.2188,98.6758],alpha:0.9998937249183655\n",
      "Epoch:98[400/469],Loss:[1.369,1.345],domain loss:[0.672,0.656],label loss:[0.025,0.042],prec[99.2188,98.7579],alpha:0.9998981952667236\n"
     ]
    },
    {
     "data": {
      "application/vnd.jupyter.widget-view+json": {
       "model_id": "a35cc82653be4418b5dbfb04a02d6c6f",
       "version_major": 2,
       "version_minor": 0
      },
      "text/plain": [
       "HBox(children=(FloatProgress(value=0.0, max=71.0), HTML(value='')))"
      ]
     },
     "metadata": {},
     "output_type": "display_data"
    },
    {
     "name": "stdout",
     "output_type": "stream",
     "text": [
      "\n",
      "Epoch:98,val,Loss:[0.805],prec[80.4911],domain_acc[65.1767]\n",
      "Epoch:99[200/469],Loss:[1.340,1.367],domain loss:[0.604,0.682],label loss:[0.014,0.044],prec[99.2188,98.6680],alpha:0.9999038577079773\n",
      "Epoch:99[400/469],Loss:[1.351,1.372],domain loss:[0.641,0.674],label loss:[0.075,0.044],prec[98.4375,98.6486],alpha:0.9999078512191772\n"
     ]
    },
    {
     "data": {
      "application/vnd.jupyter.widget-view+json": {
       "model_id": "aad24d1a484041cbbd823349853f346a",
       "version_major": 2,
       "version_minor": 0
      },
      "text/plain": [
       "HBox(children=(FloatProgress(value=0.0, max=71.0), HTML(value='')))"
      ]
     },
     "metadata": {},
     "output_type": "display_data"
    },
    {
     "name": "stdout",
     "output_type": "stream",
     "text": [
      "\n",
      "Epoch:99,val,Loss:[0.737],prec[80.9354],domain_acc[65.1802]\n"
     ]
    }
   ],
   "source": [
    "train_loss=AverageMeter()\n",
    "train_domain_loss=AverageMeter()\n",
    "train_task_loss=AverageMeter()\n",
    "test_loss=AverageMeter()\n",
    "test_top1=AverageMeter()\n",
    "test_domain_acc=AverageMeter()\n",
    "train_top1=AverageMeter()\n",
    "train_cnt=AverageMeter()\n",
    "\n",
    "print_freq=200\n",
    "domain_model=DANN()\n",
    "domain_model.cuda()\n",
    "domain_loss=nn.CrossEntropyLoss()\n",
    "task_loss=nn.CrossEntropyLoss()\n",
    "lr=0.001\n",
    "optimizer=Adam(domain_model.parameters(),lr=lr)\n",
    "epochs=100\n",
    "for epoch in range(epochs):\n",
    "\n",
    "    #lr=adjust_learning_rate(optimizer,epoch)\n",
    "    writer.add_scalar(\"lr\",lr,epoch)\n",
    "    train_loss.reset()\n",
    "    train_domain_loss.reset()\n",
    "    train_task_loss.reset()\n",
    "    train_top1.reset()\n",
    "    train_cnt.reset()\n",
    "    test_top1.reset()\n",
    "    test_loss.reset()\n",
    "    for source,target in zip(train_dl,train_m_dl):\n",
    "        train_cnt.update(images.size(0),1)\n",
    "        p = float(train_cnt.count + epoch * len(train_dl)) / (epochs *len(train_dl))\n",
    "        alpha = torch.tensor(2. / (1. + np.exp(-10 * p)) - 1)\n",
    "        src_imgs=source[0].cuda()\n",
    "        src_labels=source[1].cuda()\n",
    "        dst_imgs=target[0].cuda()\n",
    "        optimizer.zero_grad()\n",
    "        \n",
    "        src_predict,src_domains=domain_model(src_imgs,alpha)\n",
    "        src_label_loss=task_loss(src_predict,src_labels)\n",
    "        src_domain_loss=domain_loss(src_domains,torch.ones(len(src_domains)).long().cuda())\n",
    "        \n",
    "        _,dst_domains=domain_model(dst_imgs,alpha)\n",
    "        dst_domain_loss=domain_loss(dst_domains,torch.zeros(len(dst_domains)).long().cuda())\n",
    "        \n",
    "        losses=src_label_loss+src_domain_loss+dst_domain_loss\n",
    "        \n",
    "        train_loss.update(losses.data,images.size(0))\n",
    "        train_domain_loss.update(dst_domain_loss.data,images.size(0))\n",
    "        train_task_loss.update(src_label_loss.data,images.size(0))\n",
    "        top1=accuracy(src_predict.data,src_labels,topk=(1,))[0]\n",
    "        train_top1.update(top1,images.size(0))\n",
    "        \n",
    "        losses.backward()\n",
    "        optimizer.step()\n",
    "        if train_cnt.count%print_freq==0:\n",
    "            print(\"Epoch:{}[{}/{}],Loss:[{:.3f},{:.3f}],domain loss:[{:.3f},{:.3f}],label loss:[{:.3f},{:.3f}],prec[{:.4f},{:.4f}],alpha:{}\".format(\n",
    "                epoch,train_cnt.count,len(train_dl),train_loss.val,train_loss.avg,\n",
    "                train_domain_loss.val,train_domain_loss.avg,\n",
    "                train_task_loss.val,train_task_loss.avg,train_top1.val,train_top1.avg,alpha))\n",
    "    for images,labels in tqdm(test_m_dl):\n",
    "        images=images.cuda()\n",
    "        labels=labels.cuda()\n",
    "        predicts,domains=domain_model(images,0)\n",
    "        losses=task_loss(predicts,labels)\n",
    "        test_loss.update(losses.data,images.size(0))\n",
    "        top1=accuracy(predicts.data,labels,topk=(1,))[0]\n",
    "        domain_acc=accuracy(domains.data,torch.zeros(len(domains)).long().cuda(),topk=(1,))[0]\n",
    "        test_top1.update(top1,images.size(0))\n",
    "        test_domain_acc.update(domain_acc,images.size(0))\n",
    "    print(\"Epoch:{},val,Loss:[{:.3f}],prec[{:.4f}],domain_acc[{:.4f}]\".format(epoch,test_loss.avg,test_top1.avg,test_domain_acc.avg))\n",
    "    writer.add_scalar(\"train_loss\",train_loss.avg,epoch)\n",
    "    writer.add_scalar(\"test_loss\",test_loss.avg,epoch)    \n",
    "    writer.add_scalar(\"train_top1\",train_top1.avg,epoch)\n",
    "    writer.add_scalar(\"test_top1\",test_top1.avg,epoch)\n",
    "    writer.add_scalar(\"test_domain\",test_domain_acc.avg,epoch)"
   ]
  },
  {
   "cell_type": "code",
   "execution_count": null,
   "metadata": {},
   "outputs": [],
   "source": []
  }
 ],
 "metadata": {
  "kernelspec": {
   "display_name": "Python 3",
   "language": "python",
   "name": "python3"
  },
  "language_info": {
   "codemirror_mode": {
    "name": "ipython",
    "version": 3
   },
   "file_extension": ".py",
   "mimetype": "text/x-python",
   "name": "python",
   "nbconvert_exporter": "python",
   "pygments_lexer": "ipython3",
   "version": "3.6.10"
  }
 },
 "nbformat": 4,
 "nbformat_minor": 4
}
